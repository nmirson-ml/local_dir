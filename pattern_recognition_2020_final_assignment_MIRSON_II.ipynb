{
  "nbformat": 4,
  "nbformat_minor": 0,
  "metadata": {
    "colab": {
      "name": "pattern_recognition_2020_final_assignment_MIRSON_II.ipynb",
      "provenance": [],
      "collapsed_sections": []
    },
    "kernelspec": {
      "display_name": "Python 3",
      "language": "python",
      "name": "python3"
    },
    "language_info": {
      "codemirror_mode": {
        "name": "ipython",
        "version": 3
      },
      "file_extension": ".py",
      "mimetype": "text/x-python",
      "name": "python",
      "nbconvert_exporter": "python",
      "pygments_lexer": "ipython3",
      "version": "3.8.5"
    }
  },
  "cells": [
    {
      "cell_type": "markdown",
      "metadata": {
        "id": "2ApoFRnQunhP"
      },
      "source": [
        "____\n",
        "__Universite de Technologie de Troyes__<br/>\n",
        "__Universidad Tecnologica Nacional Buenos Aires__<br/>\n",
        "__Master OSS__<br/>\n",
        "__Machine Learning & Pattern Recognition__<br/>\n",
        "__Practice Sessions__<br/>\n",
        "__Teacher: Martin Palazzo__<br/>\n",
        "__source: https://github.com/martinepalazzo__<br/>\n",
        "__Topic: Final Assessment__\n",
        "____"
      ]
    },
    {
      "cell_type": "markdown",
      "metadata": {
        "id": "tykQ6PFO3LKA"
      },
      "source": [
        "# **Objectives for the assignment**\n",
        "- make train-test-split (80% train , 20% test)\n",
        "- within train set make dimension reduction with PCA, kPCA, Autoencoder from D = x.shape[1] features to P = [2,4,6]\n",
        "- With an independent PCA after the reduction, visualize the reduced subspace in 2 dimensions and colour the samples with the labels.\n",
        "- within train set perform classification with a SVM, KNN and Logistic Regression (check scikit learn toolkit). Select the best hyperparameters of the models by using cross-validation.\n",
        "- Transform the test set with the dimension reduction learned in the first step. Then apply the learned classifier of the previous step and make classification. Determine which model is the best based on evaluation metrics.\n"
      ]
    },
    {
      "cell_type": "markdown",
      "metadata": {
        "id": "ZApZA-bR3y_j"
      },
      "source": [
        "# **Conditions**\n",
        "- the assignment is individual and personal. Each student must do it by their own.\n",
        "- The methodology and results obtained must be written in a 2 pages report (minimum) without counting figures. If the report has figures then it must have 3 pages (at least). \n",
        "#### **The report must include** \n",
        "- at least 3 cited papers.\n",
        "- the following sections: Title, Abstract, Introduccion, Methods, Experiments, Discussion and Conclusions\n",
        "- You are free to implement more methods"
      ]
    },
    {
      "cell_type": "markdown",
      "metadata": {
        "id": "Jo9rksbO10VM"
      },
      "source": [
        "# Load dataset"
      ]
    },
    {
      "cell_type": "code",
      "metadata": {
        "id": "g0lZ0A9eJwao"
      },
      "source": [
        "# basics\n",
        "import pandas as pd\n",
        "import matplotlib.pyplot as plt\n",
        "import seaborn as sns\n",
        "import tensorflow as tf\n",
        "import numpy as np\n",
        "\n",
        "#sklearn\n",
        "from sklearn.model_selection import train_test_split\n",
        "from sklearn import datasets\n",
        "from sklearn.model_selection import GridSearchCV\n",
        "from sklearn.model_selection import RandomizedSearchCV\n",
        "\n",
        "#keras\n",
        "import keras\n",
        "from keras.layers import Activation\n",
        "from keras.layers.normalization import BatchNormalization\n",
        "from keras import models\n",
        "from keras import layers\n",
        "from keras.layers import Input, Dense\n",
        "from keras.models import Model\n",
        "from keras import regularizers\n",
        "from keras.layers import Dropout"
      ],
      "execution_count": 1,
      "outputs": []
    },
    {
      "cell_type": "code",
      "metadata": {
        "id": "h4z1NJddzNvc"
      },
      "source": [
        "# about the dataset\n",
        "# https://scikit-learn.org/stable/modules/generated/sklearn.datasets.load_breast_cancer.html\n",
        "data = datasets.load_breast_cancer()"
      ],
      "execution_count": 2,
      "outputs": []
    },
    {
      "cell_type": "code",
      "metadata": {
        "id": "VqrFJ9yKzQqG"
      },
      "source": [
        "# get feature matrix and label vector\n",
        "\n",
        "# get feature matrix\n",
        "x = data.data\n",
        "\n",
        "# get label vector\n",
        "y = data.target"
      ],
      "execution_count": 3,
      "outputs": []
    },
    {
      "cell_type": "code",
      "metadata": {
        "id": "CkNAQFpvzTOK",
        "outputId": "1b8e63de-d96f-4305-a43e-39dc9f386828",
        "colab": {
          "base_uri": "https://localhost:8080/",
          "height": 350
        }
      },
      "source": [
        "# visualize the label vector \n",
        "sns.countplot(y, palette=('red','green'))\n",
        "plt.xlabel(\"Target or not\")\n",
        "plt.ylabel(\"Cantidad de Pacientes\")\n",
        "plt.title(\"Distribución de Pacientes\")\n",
        "plt.xticks(np.arange(2),('Cancer' ,'Benign'))\n",
        "plt.show()\n"
      ],
      "execution_count": 4,
      "outputs": [
        {
          "output_type": "stream",
          "text": [
            "/usr/local/lib/python3.6/dist-packages/seaborn/_decorators.py:43: FutureWarning: Pass the following variable as a keyword arg: x. From version 0.12, the only valid positional argument will be `data`, and passing other arguments without an explicit keyword will result in an error or misinterpretation.\n",
            "  FutureWarning\n"
          ],
          "name": "stderr"
        },
        {
          "output_type": "display_data",
          "data": {
            "image/png": "[encoded data removed]",
            "text/plain": [
              "<Figure size 432x288 with 1 Axes>"
            ]
          },
          "metadata": {
            "tags": [],
            "needs_background": "light"
          }
        }
      ]
    },
    {
      "cell_type": "code",
      "metadata": {
        "id": "bgUroH1-1kAu",
        "outputId": "26f6eb1f-3a58-4d25-811f-8a071c2249ca",
        "colab": {
          "base_uri": "https://localhost:8080/"
        }
      },
      "source": [
        "# get the shape of the X matrix\n",
        "x.shape\n"
      ],
      "execution_count": 5,
      "outputs": [
        {
          "output_type": "execute_result",
          "data": {
            "text/plain": [
              "(569, 30)"
            ]
          },
          "metadata": {
            "tags": []
          },
          "execution_count": 5
        }
      ]
    },
    {
      "cell_type": "code",
      "metadata": {
        "id": "_kQuCXCQJwa1",
        "outputId": "1e501a8c-9a15-4501-fec2-0a3e7fe94c9c",
        "colab": {
          "base_uri": "https://localhost:8080/",
          "height": 717
        }
      },
      "source": [
        "# Read the DataFrame, first using the feature data\n",
        "df = pd.DataFrame(data.data, columns=data.feature_names)\n",
        "# Add a target column, and fill it with the target data\n",
        "df['target'] = data.target\n",
        "# Show the first 20 rows\n",
        "df.head(20)"
      ],
      "execution_count": 6,
      "outputs": [
        {
          "output_type": "execute_result",
          "data": {
            "text/html": [
              "<div>\n",
              "<style scoped>\n",
              "    .dataframe tbody tr th:only-of-type {\n",
              "        vertical-align: middle;\n",
              "    }\n",
              "\n",
              "    .dataframe tbody tr th {\n",
              "        vertical-align: top;\n",
              "    }\n",
              "\n",
              "    .dataframe thead th {\n",
              "        text-align: right;\n",
              "    }\n",
              "</style>\n",
              "<table border=\"1\" class=\"dataframe\">\n",
              "  <thead>\n",
              "    <tr style=\"text-align: right;\">\n",
              "      <th></th>\n",
              "      <th>mean radius</th>\n",
              "      <th>mean texture</th>\n",
              "      <th>mean perimeter</th>\n",
              "      <th>mean area</th>\n",
              "      <th>mean smoothness</th>\n",
              "      <th>mean compactness</th>\n",
              "      <th>mean concavity</th>\n",
              "      <th>mean concave points</th>\n",
              "      <th>mean symmetry</th>\n",
              "      <th>mean fractal dimension</th>\n",
              "      <th>radius error</th>\n",
              "      <th>texture error</th>\n",
              "      <th>perimeter error</th>\n",
              "      <th>area error</th>\n",
              "      <th>smoothness error</th>\n",
              "      <th>compactness error</th>\n",
              "      <th>concavity error</th>\n",
              "      <th>concave points error</th>\n",
              "      <th>symmetry error</th>\n",
              "      <th>fractal dimension error</th>\n",
              "      <th>worst radius</th>\n",
              "      <th>worst texture</th>\n",
              "      <th>worst perimeter</th>\n",
              "      <th>worst area</th>\n",
              "      <th>worst smoothness</th>\n",
              "      <th>worst compactness</th>\n",
              "      <th>worst concavity</th>\n",
              "      <th>worst concave points</th>\n",
              "      <th>worst symmetry</th>\n",
              "      <th>worst fractal dimension</th>\n",
              "      <th>target</th>\n",
              "    </tr>\n",
              "  </thead>\n",
              "  <tbody>\n",
              "    <tr>\n",
              "      <th>0</th>\n",
              "      <td>17.99</td>\n",
              "      <td>10.38</td>\n",
              "      <td>122.80</td>\n",
              "      <td>1001.0</td>\n",
              "      <td>0.11840</td>\n",
              "      <td>0.27760</td>\n",
              "      <td>0.30010</td>\n",
              "      <td>0.14710</td>\n",
              "      <td>0.2419</td>\n",
              "      <td>0.07871</td>\n",
              "      <td>1.0950</td>\n",
              "      <td>0.9053</td>\n",
              "      <td>8.589</td>\n",
              "      <td>153.40</td>\n",
              "      <td>0.006399</td>\n",
              "      <td>0.049040</td>\n",
              "      <td>0.05373</td>\n",
              "      <td>0.015870</td>\n",
              "      <td>0.03003</td>\n",
              "      <td>0.006193</td>\n",
              "      <td>25.38</td>\n",
              "      <td>17.33</td>\n",
              "      <td>184.60</td>\n",
              "      <td>2019.0</td>\n",
              "      <td>0.1622</td>\n",
              "      <td>0.6656</td>\n",
              "      <td>0.7119</td>\n",
              "      <td>0.26540</td>\n",
              "      <td>0.4601</td>\n",
              "      <td>0.11890</td>\n",
              "      <td>0</td>\n",
              "    </tr>\n",
              "    <tr>\n",
              "      <th>1</th>\n",
              "      <td>20.57</td>\n",
              "      <td>17.77</td>\n",
              "      <td>132.90</td>\n",
              "      <td>1326.0</td>\n",
              "      <td>0.08474</td>\n",
              "      <td>0.07864</td>\n",
              "      <td>0.08690</td>\n",
              "      <td>0.07017</td>\n",
              "      <td>0.1812</td>\n",
              "      <td>0.05667</td>\n",
              "      <td>0.5435</td>\n",
              "      <td>0.7339</td>\n",
              "      <td>3.398</td>\n",
              "      <td>74.08</td>\n",
              "      <td>0.005225</td>\n",
              "      <td>0.013080</td>\n",
              "      <td>0.01860</td>\n",
              "      <td>0.013400</td>\n",
              "      <td>0.01389</td>\n",
              "      <td>0.003532</td>\n",
              "      <td>24.99</td>\n",
              "      <td>23.41</td>\n",
              "      <td>158.80</td>\n",
              "      <td>1956.0</td>\n",
              "      <td>0.1238</td>\n",
              "      <td>0.1866</td>\n",
              "      <td>0.2416</td>\n",
              "      <td>0.18600</td>\n",
              "      <td>0.2750</td>\n",
              "      <td>0.08902</td>\n",
              "      <td>0</td>\n",
              "    </tr>\n",
              "    <tr>\n",
              "      <th>2</th>\n",
              "      <td>19.69</td>\n",
              "      <td>21.25</td>\n",
              "      <td>130.00</td>\n",
              "      <td>1203.0</td>\n",
              "      <td>0.10960</td>\n",
              "      <td>0.15990</td>\n",
              "      <td>0.19740</td>\n",
              "      <td>0.12790</td>\n",
              "      <td>0.2069</td>\n",
              "      <td>0.05999</td>\n",
              "      <td>0.7456</td>\n",
              "      <td>0.7869</td>\n",
              "      <td>4.585</td>\n",
              "      <td>94.03</td>\n",
              "      <td>0.006150</td>\n",
              "      <td>0.040060</td>\n",
              "      <td>0.03832</td>\n",
              "      <td>0.020580</td>\n",
              "      <td>0.02250</td>\n",
              "      <td>0.004571</td>\n",
              "      <td>23.57</td>\n",
              "      <td>25.53</td>\n",
              "      <td>152.50</td>\n",
              "      <td>1709.0</td>\n",
              "      <td>0.1444</td>\n",
              "      <td>0.4245</td>\n",
              "      <td>0.4504</td>\n",
              "      <td>0.24300</td>\n",
              "      <td>0.3613</td>\n",
              "      <td>0.08758</td>\n",
              "      <td>0</td>\n",
              "    </tr>\n",
              "    <tr>\n",
              "      <th>3</th>\n",
              "      <td>11.42</td>\n",
              "      <td>20.38</td>\n",
              "      <td>77.58</td>\n",
              "      <td>386.1</td>\n",
              "      <td>0.14250</td>\n",
              "      <td>0.28390</td>\n",
              "      <td>0.24140</td>\n",
              "      <td>0.10520</td>\n",
              "      <td>0.2597</td>\n",
              "      <td>0.09744</td>\n",
              "      <td>0.4956</td>\n",
              "      <td>1.1560</td>\n",
              "      <td>3.445</td>\n",
              "      <td>27.23</td>\n",
              "      <td>0.009110</td>\n",
              "      <td>0.074580</td>\n",
              "      <td>0.05661</td>\n",
              "      <td>0.018670</td>\n",
              "      <td>0.05963</td>\n",
              "      <td>0.009208</td>\n",
              "      <td>14.91</td>\n",
              "      <td>26.50</td>\n",
              "      <td>98.87</td>\n",
              "      <td>567.7</td>\n",
              "      <td>0.2098</td>\n",
              "      <td>0.8663</td>\n",
              "      <td>0.6869</td>\n",
              "      <td>0.25750</td>\n",
              "      <td>0.6638</td>\n",
              "      <td>0.17300</td>\n",
              "      <td>0</td>\n",
              "    </tr>\n",
              "    <tr>\n",
              "      <th>4</th>\n",
              "      <td>20.29</td>\n",
              "      <td>14.34</td>\n",
              "      <td>135.10</td>\n",
              "      <td>1297.0</td>\n",
              "      <td>0.10030</td>\n",
              "      <td>0.13280</td>\n",
              "      <td>0.19800</td>\n",
              "      <td>0.10430</td>\n",
              "      <td>0.1809</td>\n",
              "      <td>0.05883</td>\n",
              "      <td>0.7572</td>\n",
              "      <td>0.7813</td>\n",
              "      <td>5.438</td>\n",
              "      <td>94.44</td>\n",
              "      <td>0.011490</td>\n",
              "      <td>0.024610</td>\n",
              "      <td>0.05688</td>\n",
              "      <td>0.018850</td>\n",
              "      <td>0.01756</td>\n",
              "      <td>0.005115</td>\n",
              "      <td>22.54</td>\n",
              "      <td>16.67</td>\n",
              "      <td>152.20</td>\n",
              "      <td>1575.0</td>\n",
              "      <td>0.1374</td>\n",
              "      <td>0.2050</td>\n",
              "      <td>0.4000</td>\n",
              "      <td>0.16250</td>\n",
              "      <td>0.2364</td>\n",
              "      <td>0.07678</td>\n",
              "      <td>0</td>\n",
              "    </tr>\n",
              "    <tr>\n",
              "      <th>5</th>\n",
              "      <td>12.45</td>\n",
              "      <td>15.70</td>\n",
              "      <td>82.57</td>\n",
              "      <td>477.1</td>\n",
              "      <td>0.12780</td>\n",
              "      <td>0.17000</td>\n",
              "      <td>0.15780</td>\n",
              "      <td>0.08089</td>\n",
              "      <td>0.2087</td>\n",
              "      <td>0.07613</td>\n",
              "      <td>0.3345</td>\n",
              "      <td>0.8902</td>\n",
              "      <td>2.217</td>\n",
              "      <td>27.19</td>\n",
              "      <td>0.007510</td>\n",
              "      <td>0.033450</td>\n",
              "      <td>0.03672</td>\n",
              "      <td>0.011370</td>\n",
              "      <td>0.02165</td>\n",
              "      <td>0.005082</td>\n",
              "      <td>15.47</td>\n",
              "      <td>23.75</td>\n",
              "      <td>103.40</td>\n",
              "      <td>741.6</td>\n",
              "      <td>0.1791</td>\n",
              "      <td>0.5249</td>\n",
              "      <td>0.5355</td>\n",
              "      <td>0.17410</td>\n",
              "      <td>0.3985</td>\n",
              "      <td>0.12440</td>\n",
              "      <td>0</td>\n",
              "    </tr>\n",
              "    <tr>\n",
              "      <th>6</th>\n",
              "      <td>18.25</td>\n",
              "      <td>19.98</td>\n",
              "      <td>119.60</td>\n",
              "      <td>1040.0</td>\n",
              "      <td>0.09463</td>\n",
              "      <td>0.10900</td>\n",
              "      <td>0.11270</td>\n",
              "      <td>0.07400</td>\n",
              "      <td>0.1794</td>\n",
              "      <td>0.05742</td>\n",
              "      <td>0.4467</td>\n",
              "      <td>0.7732</td>\n",
              "      <td>3.180</td>\n",
              "      <td>53.91</td>\n",
              "      <td>0.004314</td>\n",
              "      <td>0.013820</td>\n",
              "      <td>0.02254</td>\n",
              "      <td>0.010390</td>\n",
              "      <td>0.01369</td>\n",
              "      <td>0.002179</td>\n",
              "      <td>22.88</td>\n",
              "      <td>27.66</td>\n",
              "      <td>153.20</td>\n",
              "      <td>1606.0</td>\n",
              "      <td>0.1442</td>\n",
              "      <td>0.2576</td>\n",
              "      <td>0.3784</td>\n",
              "      <td>0.19320</td>\n",
              "      <td>0.3063</td>\n",
              "      <td>0.08368</td>\n",
              "      <td>0</td>\n",
              "    </tr>\n",
              "    <tr>\n",
              "      <th>7</th>\n",
              "      <td>13.71</td>\n",
              "      <td>20.83</td>\n",
              "      <td>90.20</td>\n",
              "      <td>577.9</td>\n",
              "      <td>0.11890</td>\n",
              "      <td>0.16450</td>\n",
              "      <td>0.09366</td>\n",
              "      <td>0.05985</td>\n",
              "      <td>0.2196</td>\n",
              "      <td>0.07451</td>\n",
              "      <td>0.5835</td>\n",
              "      <td>1.3770</td>\n",
              "      <td>3.856</td>\n",
              "      <td>50.96</td>\n",
              "      <td>0.008805</td>\n",
              "      <td>0.030290</td>\n",
              "      <td>0.02488</td>\n",
              "      <td>0.014480</td>\n",
              "      <td>0.01486</td>\n",
              "      <td>0.005412</td>\n",
              "      <td>17.06</td>\n",
              "      <td>28.14</td>\n",
              "      <td>110.60</td>\n",
              "      <td>897.0</td>\n",
              "      <td>0.1654</td>\n",
              "      <td>0.3682</td>\n",
              "      <td>0.2678</td>\n",
              "      <td>0.15560</td>\n",
              "      <td>0.3196</td>\n",
              "      <td>0.11510</td>\n",
              "      <td>0</td>\n",
              "    </tr>\n",
              "    <tr>\n",
              "      <th>8</th>\n",
              "      <td>13.00</td>\n",
              "      <td>21.82</td>\n",
              "      <td>87.50</td>\n",
              "      <td>519.8</td>\n",
              "      <td>0.12730</td>\n",
              "      <td>0.19320</td>\n",
              "      <td>0.18590</td>\n",
              "      <td>0.09353</td>\n",
              "      <td>0.2350</td>\n",
              "      <td>0.07389</td>\n",
              "      <td>0.3063</td>\n",
              "      <td>1.0020</td>\n",
              "      <td>2.406</td>\n",
              "      <td>24.32</td>\n",
              "      <td>0.005731</td>\n",
              "      <td>0.035020</td>\n",
              "      <td>0.03553</td>\n",
              "      <td>0.012260</td>\n",
              "      <td>0.02143</td>\n",
              "      <td>0.003749</td>\n",
              "      <td>15.49</td>\n",
              "      <td>30.73</td>\n",
              "      <td>106.20</td>\n",
              "      <td>739.3</td>\n",
              "      <td>0.1703</td>\n",
              "      <td>0.5401</td>\n",
              "      <td>0.5390</td>\n",
              "      <td>0.20600</td>\n",
              "      <td>0.4378</td>\n",
              "      <td>0.10720</td>\n",
              "      <td>0</td>\n",
              "    </tr>\n",
              "    <tr>\n",
              "      <th>9</th>\n",
              "      <td>12.46</td>\n",
              "      <td>24.04</td>\n",
              "      <td>83.97</td>\n",
              "      <td>475.9</td>\n",
              "      <td>0.11860</td>\n",
              "      <td>0.23960</td>\n",
              "      <td>0.22730</td>\n",
              "      <td>0.08543</td>\n",
              "      <td>0.2030</td>\n",
              "      <td>0.08243</td>\n",
              "      <td>0.2976</td>\n",
              "      <td>1.5990</td>\n",
              "      <td>2.039</td>\n",
              "      <td>23.94</td>\n",
              "      <td>0.007149</td>\n",
              "      <td>0.072170</td>\n",
              "      <td>0.07743</td>\n",
              "      <td>0.014320</td>\n",
              "      <td>0.01789</td>\n",
              "      <td>0.010080</td>\n",
              "      <td>15.09</td>\n",
              "      <td>40.68</td>\n",
              "      <td>97.65</td>\n",
              "      <td>711.4</td>\n",
              "      <td>0.1853</td>\n",
              "      <td>1.0580</td>\n",
              "      <td>1.1050</td>\n",
              "      <td>0.22100</td>\n",
              "      <td>0.4366</td>\n",
              "      <td>0.20750</td>\n",
              "      <td>0</td>\n",
              "    </tr>\n",
              "    <tr>\n",
              "      <th>10</th>\n",
              "      <td>16.02</td>\n",
              "      <td>23.24</td>\n",
              "      <td>102.70</td>\n",
              "      <td>797.8</td>\n",
              "      <td>0.08206</td>\n",
              "      <td>0.06669</td>\n",
              "      <td>0.03299</td>\n",
              "      <td>0.03323</td>\n",
              "      <td>0.1528</td>\n",
              "      <td>0.05697</td>\n",
              "      <td>0.3795</td>\n",
              "      <td>1.1870</td>\n",
              "      <td>2.466</td>\n",
              "      <td>40.51</td>\n",
              "      <td>0.004029</td>\n",
              "      <td>0.009269</td>\n",
              "      <td>0.01101</td>\n",
              "      <td>0.007591</td>\n",
              "      <td>0.01460</td>\n",
              "      <td>0.003042</td>\n",
              "      <td>19.19</td>\n",
              "      <td>33.88</td>\n",
              "      <td>123.80</td>\n",
              "      <td>1150.0</td>\n",
              "      <td>0.1181</td>\n",
              "      <td>0.1551</td>\n",
              "      <td>0.1459</td>\n",
              "      <td>0.09975</td>\n",
              "      <td>0.2948</td>\n",
              "      <td>0.08452</td>\n",
              "      <td>0</td>\n",
              "    </tr>\n",
              "    <tr>\n",
              "      <th>11</th>\n",
              "      <td>15.78</td>\n",
              "      <td>17.89</td>\n",
              "      <td>103.60</td>\n",
              "      <td>781.0</td>\n",
              "      <td>0.09710</td>\n",
              "      <td>0.12920</td>\n",
              "      <td>0.09954</td>\n",
              "      <td>0.06606</td>\n",
              "      <td>0.1842</td>\n",
              "      <td>0.06082</td>\n",
              "      <td>0.5058</td>\n",
              "      <td>0.9849</td>\n",
              "      <td>3.564</td>\n",
              "      <td>54.16</td>\n",
              "      <td>0.005771</td>\n",
              "      <td>0.040610</td>\n",
              "      <td>0.02791</td>\n",
              "      <td>0.012820</td>\n",
              "      <td>0.02008</td>\n",
              "      <td>0.004144</td>\n",
              "      <td>20.42</td>\n",
              "      <td>27.28</td>\n",
              "      <td>136.50</td>\n",
              "      <td>1299.0</td>\n",
              "      <td>0.1396</td>\n",
              "      <td>0.5609</td>\n",
              "      <td>0.3965</td>\n",
              "      <td>0.18100</td>\n",
              "      <td>0.3792</td>\n",
              "      <td>0.10480</td>\n",
              "      <td>0</td>\n",
              "    </tr>\n",
              "    <tr>\n",
              "      <th>12</th>\n",
              "      <td>19.17</td>\n",
              "      <td>24.80</td>\n",
              "      <td>132.40</td>\n",
              "      <td>1123.0</td>\n",
              "      <td>0.09740</td>\n",
              "      <td>0.24580</td>\n",
              "      <td>0.20650</td>\n",
              "      <td>0.11180</td>\n",
              "      <td>0.2397</td>\n",
              "      <td>0.07800</td>\n",
              "      <td>0.9555</td>\n",
              "      <td>3.5680</td>\n",
              "      <td>11.070</td>\n",
              "      <td>116.20</td>\n",
              "      <td>0.003139</td>\n",
              "      <td>0.082970</td>\n",
              "      <td>0.08890</td>\n",
              "      <td>0.040900</td>\n",
              "      <td>0.04484</td>\n",
              "      <td>0.012840</td>\n",
              "      <td>20.96</td>\n",
              "      <td>29.94</td>\n",
              "      <td>151.70</td>\n",
              "      <td>1332.0</td>\n",
              "      <td>0.1037</td>\n",
              "      <td>0.3903</td>\n",
              "      <td>0.3639</td>\n",
              "      <td>0.17670</td>\n",
              "      <td>0.3176</td>\n",
              "      <td>0.10230</td>\n",
              "      <td>0</td>\n",
              "    </tr>\n",
              "    <tr>\n",
              "      <th>13</th>\n",
              "      <td>15.85</td>\n",
              "      <td>23.95</td>\n",
              "      <td>103.70</td>\n",
              "      <td>782.7</td>\n",
              "      <td>0.08401</td>\n",
              "      <td>0.10020</td>\n",
              "      <td>0.09938</td>\n",
              "      <td>0.05364</td>\n",
              "      <td>0.1847</td>\n",
              "      <td>0.05338</td>\n",
              "      <td>0.4033</td>\n",
              "      <td>1.0780</td>\n",
              "      <td>2.903</td>\n",
              "      <td>36.58</td>\n",
              "      <td>0.009769</td>\n",
              "      <td>0.031260</td>\n",
              "      <td>0.05051</td>\n",
              "      <td>0.019920</td>\n",
              "      <td>0.02981</td>\n",
              "      <td>0.003002</td>\n",
              "      <td>16.84</td>\n",
              "      <td>27.66</td>\n",
              "      <td>112.00</td>\n",
              "      <td>876.5</td>\n",
              "      <td>0.1131</td>\n",
              "      <td>0.1924</td>\n",
              "      <td>0.2322</td>\n",
              "      <td>0.11190</td>\n",
              "      <td>0.2809</td>\n",
              "      <td>0.06287</td>\n",
              "      <td>0</td>\n",
              "    </tr>\n",
              "    <tr>\n",
              "      <th>14</th>\n",
              "      <td>13.73</td>\n",
              "      <td>22.61</td>\n",
              "      <td>93.60</td>\n",
              "      <td>578.3</td>\n",
              "      <td>0.11310</td>\n",
              "      <td>0.22930</td>\n",
              "      <td>0.21280</td>\n",
              "      <td>0.08025</td>\n",
              "      <td>0.2069</td>\n",
              "      <td>0.07682</td>\n",
              "      <td>0.2121</td>\n",
              "      <td>1.1690</td>\n",
              "      <td>2.061</td>\n",
              "      <td>19.21</td>\n",
              "      <td>0.006429</td>\n",
              "      <td>0.059360</td>\n",
              "      <td>0.05501</td>\n",
              "      <td>0.016280</td>\n",
              "      <td>0.01961</td>\n",
              "      <td>0.008093</td>\n",
              "      <td>15.03</td>\n",
              "      <td>32.01</td>\n",
              "      <td>108.80</td>\n",
              "      <td>697.7</td>\n",
              "      <td>0.1651</td>\n",
              "      <td>0.7725</td>\n",
              "      <td>0.6943</td>\n",
              "      <td>0.22080</td>\n",
              "      <td>0.3596</td>\n",
              "      <td>0.14310</td>\n",
              "      <td>0</td>\n",
              "    </tr>\n",
              "    <tr>\n",
              "      <th>15</th>\n",
              "      <td>14.54</td>\n",
              "      <td>27.54</td>\n",
              "      <td>96.73</td>\n",
              "      <td>658.8</td>\n",
              "      <td>0.11390</td>\n",
              "      <td>0.15950</td>\n",
              "      <td>0.16390</td>\n",
              "      <td>0.07364</td>\n",
              "      <td>0.2303</td>\n",
              "      <td>0.07077</td>\n",
              "      <td>0.3700</td>\n",
              "      <td>1.0330</td>\n",
              "      <td>2.879</td>\n",
              "      <td>32.55</td>\n",
              "      <td>0.005607</td>\n",
              "      <td>0.042400</td>\n",
              "      <td>0.04741</td>\n",
              "      <td>0.010900</td>\n",
              "      <td>0.01857</td>\n",
              "      <td>0.005466</td>\n",
              "      <td>17.46</td>\n",
              "      <td>37.13</td>\n",
              "      <td>124.10</td>\n",
              "      <td>943.2</td>\n",
              "      <td>0.1678</td>\n",
              "      <td>0.6577</td>\n",
              "      <td>0.7026</td>\n",
              "      <td>0.17120</td>\n",
              "      <td>0.4218</td>\n",
              "      <td>0.13410</td>\n",
              "      <td>0</td>\n",
              "    </tr>\n",
              "    <tr>\n",
              "      <th>16</th>\n",
              "      <td>14.68</td>\n",
              "      <td>20.13</td>\n",
              "      <td>94.74</td>\n",
              "      <td>684.5</td>\n",
              "      <td>0.09867</td>\n",
              "      <td>0.07200</td>\n",
              "      <td>0.07395</td>\n",
              "      <td>0.05259</td>\n",
              "      <td>0.1586</td>\n",
              "      <td>0.05922</td>\n",
              "      <td>0.4727</td>\n",
              "      <td>1.2400</td>\n",
              "      <td>3.195</td>\n",
              "      <td>45.40</td>\n",
              "      <td>0.005718</td>\n",
              "      <td>0.011620</td>\n",
              "      <td>0.01998</td>\n",
              "      <td>0.011090</td>\n",
              "      <td>0.01410</td>\n",
              "      <td>0.002085</td>\n",
              "      <td>19.07</td>\n",
              "      <td>30.88</td>\n",
              "      <td>123.40</td>\n",
              "      <td>1138.0</td>\n",
              "      <td>0.1464</td>\n",
              "      <td>0.1871</td>\n",
              "      <td>0.2914</td>\n",
              "      <td>0.16090</td>\n",
              "      <td>0.3029</td>\n",
              "      <td>0.08216</td>\n",
              "      <td>0</td>\n",
              "    </tr>\n",
              "    <tr>\n",
              "      <th>17</th>\n",
              "      <td>16.13</td>\n",
              "      <td>20.68</td>\n",
              "      <td>108.10</td>\n",
              "      <td>798.8</td>\n",
              "      <td>0.11700</td>\n",
              "      <td>0.20220</td>\n",
              "      <td>0.17220</td>\n",
              "      <td>0.10280</td>\n",
              "      <td>0.2164</td>\n",
              "      <td>0.07356</td>\n",
              "      <td>0.5692</td>\n",
              "      <td>1.0730</td>\n",
              "      <td>3.854</td>\n",
              "      <td>54.18</td>\n",
              "      <td>0.007026</td>\n",
              "      <td>0.025010</td>\n",
              "      <td>0.03188</td>\n",
              "      <td>0.012970</td>\n",
              "      <td>0.01689</td>\n",
              "      <td>0.004142</td>\n",
              "      <td>20.96</td>\n",
              "      <td>31.48</td>\n",
              "      <td>136.80</td>\n",
              "      <td>1315.0</td>\n",
              "      <td>0.1789</td>\n",
              "      <td>0.4233</td>\n",
              "      <td>0.4784</td>\n",
              "      <td>0.20730</td>\n",
              "      <td>0.3706</td>\n",
              "      <td>0.11420</td>\n",
              "      <td>0</td>\n",
              "    </tr>\n",
              "    <tr>\n",
              "      <th>18</th>\n",
              "      <td>19.81</td>\n",
              "      <td>22.15</td>\n",
              "      <td>130.00</td>\n",
              "      <td>1260.0</td>\n",
              "      <td>0.09831</td>\n",
              "      <td>0.10270</td>\n",
              "      <td>0.14790</td>\n",
              "      <td>0.09498</td>\n",
              "      <td>0.1582</td>\n",
              "      <td>0.05395</td>\n",
              "      <td>0.7582</td>\n",
              "      <td>1.0170</td>\n",
              "      <td>5.865</td>\n",
              "      <td>112.40</td>\n",
              "      <td>0.006494</td>\n",
              "      <td>0.018930</td>\n",
              "      <td>0.03391</td>\n",
              "      <td>0.015210</td>\n",
              "      <td>0.01356</td>\n",
              "      <td>0.001997</td>\n",
              "      <td>27.32</td>\n",
              "      <td>30.88</td>\n",
              "      <td>186.80</td>\n",
              "      <td>2398.0</td>\n",
              "      <td>0.1512</td>\n",
              "      <td>0.3150</td>\n",
              "      <td>0.5372</td>\n",
              "      <td>0.23880</td>\n",
              "      <td>0.2768</td>\n",
              "      <td>0.07615</td>\n",
              "      <td>0</td>\n",
              "    </tr>\n",
              "    <tr>\n",
              "      <th>19</th>\n",
              "      <td>13.54</td>\n",
              "      <td>14.36</td>\n",
              "      <td>87.46</td>\n",
              "      <td>566.3</td>\n",
              "      <td>0.09779</td>\n",
              "      <td>0.08129</td>\n",
              "      <td>0.06664</td>\n",
              "      <td>0.04781</td>\n",
              "      <td>0.1885</td>\n",
              "      <td>0.05766</td>\n",
              "      <td>0.2699</td>\n",
              "      <td>0.7886</td>\n",
              "      <td>2.058</td>\n",
              "      <td>23.56</td>\n",
              "      <td>0.008462</td>\n",
              "      <td>0.014600</td>\n",
              "      <td>0.02387</td>\n",
              "      <td>0.013150</td>\n",
              "      <td>0.01980</td>\n",
              "      <td>0.002300</td>\n",
              "      <td>15.11</td>\n",
              "      <td>19.26</td>\n",
              "      <td>99.70</td>\n",
              "      <td>711.2</td>\n",
              "      <td>0.1440</td>\n",
              "      <td>0.1773</td>\n",
              "      <td>0.2390</td>\n",
              "      <td>0.12880</td>\n",
              "      <td>0.2977</td>\n",
              "      <td>0.07259</td>\n",
              "      <td>1</td>\n",
              "    </tr>\n",
              "  </tbody>\n",
              "</table>\n",
              "</div>"
            ],
            "text/plain": [
              "    mean radius  mean texture  ...  worst fractal dimension  target\n",
              "0         17.99         10.38  ...                  0.11890       0\n",
              "1         20.57         17.77  ...                  0.08902       0\n",
              "2         19.69         21.25  ...                  0.08758       0\n",
              "3         11.42         20.38  ...                  0.17300       0\n",
              "4         20.29         14.34  ...                  0.07678       0\n",
              "5         12.45         15.70  ...                  0.12440       0\n",
              "6         18.25         19.98  ...                  0.08368       0\n",
              "7         13.71         20.83  ...                  0.11510       0\n",
              "8         13.00         21.82  ...                  0.10720       0\n",
              "9         12.46         24.04  ...                  0.20750       0\n",
              "10        16.02         23.24  ...                  0.08452       0\n",
              "11        15.78         17.89  ...                  0.10480       0\n",
              "12        19.17         24.80  ...                  0.10230       0\n",
              "13        15.85         23.95  ...                  0.06287       0\n",
              "14        13.73         22.61  ...                  0.14310       0\n",
              "15        14.54         27.54  ...                  0.13410       0\n",
              "16        14.68         20.13  ...                  0.08216       0\n",
              "17        16.13         20.68  ...                  0.11420       0\n",
              "18        19.81         22.15  ...                  0.07615       0\n",
              "19        13.54         14.36  ...                  0.07259       1\n",
              "\n",
              "[20 rows x 31 columns]"
            ]
          },
          "metadata": {
            "tags": []
          },
          "execution_count": 6
        }
      ]
    },
    {
      "cell_type": "code",
      "metadata": {
        "id": "NUJ31NplJwa4",
        "outputId": "211d4bdc-9ee3-41df-e8b9-cab646af6efd",
        "colab": {
          "base_uri": "https://localhost:8080/"
        }
      },
      "source": [
        "df_total = list(df.shape)[0]\n",
        "df_count = list(df['target'].value_counts())\n",
        "\n",
        "print(\"The Breast Cancer dataset has {} diagnosis samples, among them {} are benign and {} are malignant.\".format(df_total, \n",
        "                                                                                 df_count[0], \n",
        "                                                                                 df_count[1]))"
      ],
      "execution_count": 7,
      "outputs": [
        {
          "output_type": "stream",
          "text": [
            "The Breast Cancer dataset has 569 diagnosis samples, among them 357 are benign and 212 are malignant.\n"
          ],
          "name": "stdout"
        }
      ]
    },
    {
      "cell_type": "code",
      "metadata": {
        "id": "YyxnhJ3wJwa6",
        "outputId": "f543f32e-f548-49e1-b9d9-4a5da5f22d2b",
        "colab": {
          "base_uri": "https://localhost:8080/"
        }
      },
      "source": [
        "print(data.DESCR)"
      ],
      "execution_count": 8,
      "outputs": [
        {
          "output_type": "stream",
          "text": [
            ".. _breast_cancer_dataset:\n",
            "\n",
            "Breast cancer wisconsin (diagnostic) dataset\n",
            "--------------------------------------------\n",
            "\n",
            "**Data Set Characteristics:**\n",
            "\n",
            "    :Number of Instances: 569\n",
            "\n",
            "    :Number of Attributes: 30 numeric, predictive attributes and the class\n",
            "\n",
            "    :Attribute Information:\n",
            "        - radius (mean of distances from center to points on the perimeter)\n",
            "        - texture (standard deviation of gray-scale values)\n",
            "        - perimeter\n",
            "        - area\n",
            "        - smoothness (local variation in radius lengths)\n",
            "        - compactness (perimeter^2 / area - 1.0)\n",
            "        - concavity (severity of concave portions of the contour)\n",
            "        - concave points (number of concave portions of the contour)\n",
            "        - symmetry \n",
            "        - fractal dimension (\"coastline approximation\" - 1)\n",
            "\n",
            "        The mean, standard error, and \"worst\" or largest (mean of the three\n",
            "        largest values) of these features were computed for each image,\n",
            "        resulting in 30 features.  For instance, field 3 is Mean Radius, field\n",
            "        13 is Radius SE, field 23 is Worst Radius.\n",
            "\n",
            "        - class:\n",
            "                - WDBC-Malignant\n",
            "                - WDBC-Benign\n",
            "\n",
            "    :Summary Statistics:\n",
            "\n",
            "    ===================================== ====== ======\n",
            "                                           Min    Max\n",
            "    ===================================== ====== ======\n",
            "    radius (mean):                        6.981  28.11\n",
            "    texture (mean):                       9.71   39.28\n",
            "    perimeter (mean):                     43.79  188.5\n",
            "    area (mean):                          143.5  2501.0\n",
            "    smoothness (mean):                    0.053  0.163\n",
            "    compactness (mean):                   0.019  0.345\n",
            "    concavity (mean):                     0.0    0.427\n",
            "    concave points (mean):                0.0    0.201\n",
            "    symmetry (mean):                      0.106  0.304\n",
            "    fractal dimension (mean):             0.05   0.097\n",
            "    radius (standard error):              0.112  2.873\n",
            "    texture (standard error):             0.36   4.885\n",
            "    perimeter (standard error):           0.757  21.98\n",
            "    area (standard error):                6.802  542.2\n",
            "    smoothness (standard error):          0.002  0.031\n",
            "    compactness (standard error):         0.002  0.135\n",
            "    concavity (standard error):           0.0    0.396\n",
            "    concave points (standard error):      0.0    0.053\n",
            "    symmetry (standard error):            0.008  0.079\n",
            "    fractal dimension (standard error):   0.001  0.03\n",
            "    radius (worst):                       7.93   36.04\n",
            "    texture (worst):                      12.02  49.54\n",
            "    perimeter (worst):                    50.41  251.2\n",
            "    area (worst):                         185.2  4254.0\n",
            "    smoothness (worst):                   0.071  0.223\n",
            "    compactness (worst):                  0.027  1.058\n",
            "    concavity (worst):                    0.0    1.252\n",
            "    concave points (worst):               0.0    0.291\n",
            "    symmetry (worst):                     0.156  0.664\n",
            "    fractal dimension (worst):            0.055  0.208\n",
            "    ===================================== ====== ======\n",
            "\n",
            "    :Missing Attribute Values: None\n",
            "\n",
            "    :Class Distribution: 212 - Malignant, 357 - Benign\n",
            "\n",
            "    :Creator:  Dr. William H. Wolberg, W. Nick Street, Olvi L. Mangasarian\n",
            "\n",
            "    :Donor: Nick Street\n",
            "\n",
            "    :Date: November, 1995\n",
            "\n",
            "This is a copy of UCI ML Breast Cancer Wisconsin (Diagnostic) datasets.\n",
            "https://goo.gl/U2Uwz2\n",
            "\n",
            "Features are computed from a digitized image of a fine needle\n",
            "aspirate (FNA) of a breast mass.  They describe\n",
            "characteristics of the cell nuclei present in the image.\n",
            "\n",
            "Separating plane described above was obtained using\n",
            "Multisurface Method-Tree (MSM-T) [K. P. Bennett, \"Decision Tree\n",
            "Construction Via Linear Programming.\" Proceedings of the 4th\n",
            "Midwest Artificial Intelligence and Cognitive Science Society,\n",
            "pp. 97-101, 1992], a classification method which uses linear\n",
            "programming to construct a decision tree.  Relevant features\n",
            "were selected using an exhaustive search in the space of 1-4\n",
            "features and 1-3 separating planes.\n",
            "\n",
            "The actual linear program used to obtain the separating plane\n",
            "in the 3-dimensional space is that described in:\n",
            "[K. P. Bennett and O. L. Mangasarian: \"Robust Linear\n",
            "Programming Discrimination of Two Linearly Inseparable Sets\",\n",
            "Optimization Methods and Software 1, 1992, 23-34].\n",
            "\n",
            "This database is also available through the UW CS ftp server:\n",
            "\n",
            "ftp ftp.cs.wisc.edu\n",
            "cd math-prog/cpo-dataset/machine-learn/WDBC/\n",
            "\n",
            ".. topic:: References\n",
            "\n",
            "   - W.N. Street, W.H. Wolberg and O.L. Mangasarian. Nuclear feature extraction \n",
            "     for breast tumor diagnosis. IS&T/SPIE 1993 International Symposium on \n",
            "     Electronic Imaging: Science and Technology, volume 1905, pages 861-870,\n",
            "     San Jose, CA, 1993.\n",
            "   - O.L. Mangasarian, W.N. Street and W.H. Wolberg. Breast cancer diagnosis and \n",
            "     prognosis via linear programming. Operations Research, 43(4), pages 570-577, \n",
            "     July-August 1995.\n",
            "   - W.H. Wolberg, W.N. Street, and O.L. Mangasarian. Machine learning techniques\n",
            "     to diagnose breast cancer from fine-needle aspirates. Cancer Letters 77 (1994) \n",
            "     163-171.\n"
          ],
          "name": "stdout"
        }
      ]
    },
    {
      "cell_type": "code",
      "metadata": {
        "id": "JR_Uv9G91sRb"
      },
      "source": [
        "## Split the data into training and test. Later on will split again train into train and validation\n",
        "\n",
        "xtr, xte, ytr, yte = train_test_split(x,y, test_size = 0.2)"
      ],
      "execution_count": 9,
      "outputs": []
    },
    {
      "cell_type": "code",
      "metadata": {
        "id": "rKcyd2BaJwa-",
        "outputId": "b460ea90-6640-4e17-8b55-ffcbd83128e1",
        "colab": {
          "base_uri": "https://localhost:8080/",
          "height": 299
        }
      },
      "source": [
        "## Display the heatmap of all features without StandardScaler\n",
        "\n",
        "ax= sns.heatmap(xtr)\n",
        "ax.set_title('HeatMap Features Values')\n",
        "ax.set_ylabel('Samples')"
      ],
      "execution_count": 10,
      "outputs": [
        {
          "output_type": "execute_result",
          "data": {
            "text/plain": [
              "Text(33.0, 0.5, 'Samples')"
            ]
          },
          "metadata": {
            "tags": []
          },
          "execution_count": 10
        },
        {
          "output_type": "display_data",
          "data": {
            "image/png": "[encoded data removed]",
            "text/plain": [
              "<Figure size 432x288 with 2 Axes>"
            ]
          },
          "metadata": {
            "tags": [],
            "needs_background": "light"
          }
        }
      ]
    },
    {
      "cell_type": "code",
      "metadata": {
        "id": "2fNURGxDJwbA"
      },
      "source": [
        "#High Variance, so will normalize the values\n",
        "\n",
        "from sklearn.preprocessing import StandardScaler\n",
        "sc = StandardScaler()\n",
        "xtr = sc.fit_transform(xtr)\n",
        "xte = sc.transform (xte)"
      ],
      "execution_count": 11,
      "outputs": []
    },
    {
      "cell_type": "code",
      "metadata": {
        "id": "mgHdQWW5JwbC",
        "outputId": "a79211cd-8b1c-45e6-8139-76d9336b01f4",
        "colab": {
          "base_uri": "https://localhost:8080/",
          "height": 299
        }
      },
      "source": [
        "#Display again the heatman, after proccessing the information\n",
        "\n",
        "ax=sns.heatmap(xtr)\n",
        "ax.set_title('HeatMap Features Values after scaling')\n",
        "ax.set_ylabel('Samples')"
      ],
      "execution_count": 12,
      "outputs": [
        {
          "output_type": "execute_result",
          "data": {
            "text/plain": [
              "Text(33.0, 0.5, 'Samples')"
            ]
          },
          "metadata": {
            "tags": []
          },
          "execution_count": 12
        },
        {
          "output_type": "display_data",
          "data": {
            "image/png": "[encoded data removed]",
            "text/plain": [
              "<Figure size 432x288 with 2 Axes>"
            ]
          },
          "metadata": {
            "tags": [],
            "needs_background": "light"
          }
        }
      ]
    },
    {
      "cell_type": "code",
      "metadata": {
        "id": "ioJtrnE8JwbE"
      },
      "source": [
        "##AE Function defined in course\n",
        "\n",
        "def ae_arch_0(encoding_dim, epochs, bachs, l1_reg, l2_reg, lrate, xtr, xte): \n",
        "    earlstop = keras.callbacks.EarlyStopping(monitor='val_loss', min_delta=0.0001, patience=10,  mode='auto', baseline=None, restore_best_weights=False, verbose=1)\n",
        "    rlrop = keras.callbacks.ReduceLROnPlateau(monitor='val_loss', min_delta=0.001, patience=10, verbose=1, mode='auto')\n",
        "    \n",
        "    ################### Optimizer ###################\n",
        "    optim = keras.optimizers.Adam(lr=lrate)\n",
        "\n",
        "    ################### MODEL ARCHITECTURE ###############\n",
        "    \n",
        "    # 00) INPUT\n",
        "    inputdim = Input(shape=(xtr.shape[1],))\n",
        "    \n",
        "    # 01) DENSE LAYER\n",
        "    encode_i = Dense(200, kernel_regularizer=regularizers.l2(l2_reg), activation = 'relu')(inputdim)\n",
        "    \n",
        "    # 02) BATCH NORM\n",
        "    bn_i = BatchNormalization()(encode_i)\n",
        "    \n",
        "    # 03) DENSE LAYER\n",
        "    encode_ii = Dense(100, activation = 'relu')(bn_i)\n",
        "\n",
        "    latent = Dense(encoding_dim, kernel_regularizer = regularizers.l2(l2_reg), activation = 'relu')(encode_ii)\n",
        "\n",
        "    # 04) DECODER\n",
        "    decode_i = Dense(100, activation = 'relu')(latent)\n",
        "    decode_ii = Dense(200,activation='relu')(latent)\n",
        "    \n",
        "    # 05) DECODER\n",
        "    decode_iii = Dense(xtr.shape[1],activation='linear')(decode_ii)\n",
        "    \n",
        "    # 06) AUTOENCODER\n",
        "    autoencoder = Model(inputdim, decode_iii)\n",
        "    encoder = Model(inputdim, latent)\n",
        "    \n",
        "    #encoded_input5 = Input(shape=(encoding_dim5,))\n",
        "    #decoder_layer5 = autoencoder5.layers[-3]\n",
        "    #decoder5 = Model(x3, decoder_layer5(x3))\n",
        "\n",
        "    autoencoder.summary()\n",
        "    keras.utils.plot_model(autoencoder, show_shapes=True)\n",
        "    compression_factor = float(np.shape(xtr)[1]) / encoding_dim\n",
        "    print(\"Compression factor: %s\" % compression_factor)\n",
        "    \n",
        "    ################## COMPILE AND FIT MODEL #############\n",
        "    autoencoder.compile(optimizer=optim, loss='mse')\n",
        "    autoencoder.fit(xtr, xtr,epochs=epochs, batch_size=bachs,  shuffle=True,  validation_data=(xte, xte), callbacks = [earlstop, rlrop])\n",
        "    \n",
        "    histval = autoencoder.history.history['val_loss']\n",
        "    histtra = autoencoder.history.history['loss']\n",
        "    \n",
        "    return encoder, histtra, histval"
      ],
      "execution_count": 13,
      "outputs": []
    },
    {
      "cell_type": "code",
      "metadata": {
        "id": "ks0QQDefJwbG",
        "outputId": "9f3a21ff-49d9-40d6-e598-fba4096c4858",
        "colab": {
          "base_uri": "https://localhost:8080/"
        }
      },
      "source": [
        "## Dimensionality Reduction.\n",
        "\n",
        "## PCA\n",
        "\n",
        "from sklearn.decomposition import PCA\n",
        "pca = PCA(n_components=2)\n",
        "xtr_pca_2 = pca.fit_transform(xtr)\n",
        "xte_pca_2 = pca.transform(xte)\n",
        "xtr_pca_df_2 = pd.DataFrame(data = xtr_pca_2\n",
        "             , columns = ['feature_1', 'feature_2'])\n",
        "\n",
        "pca = PCA(n_components=4)\n",
        "xtr_pca_4 = pca.fit_transform(xtr)\n",
        "xte_pca_4 = pca.transform(xte)\n",
        "xtr_pca_df_4 = pd.DataFrame(data = xtr_pca_4\n",
        "             , columns = ['feature_1', 'feature_2','feature_3', 'feature_4'])\n",
        "\n",
        "pca = PCA(n_components=6)\n",
        "xtr_pca_6 = pca.fit_transform(xtr)\n",
        "xte_pca_6 = pca.transform(xte)\n",
        "xtr_pca_df_6 = pd.DataFrame(data = xtr_pca_6\n",
        "             , columns = ['feature_1', 'feature_2','feature_3','feature_4','feature_5','feature_6'])\n",
        "\n",
        "\n",
        "## KPCA\n",
        "\n",
        "from sklearn.decomposition import KernelPCA\n",
        "transformer = KernelPCA(n_components=2, kernel='rbf')\n",
        "xtr_kpca_2 = transformer.fit_transform(xtr)\n",
        "xte_kpca_2 = transformer.transform(xte)\n",
        "xtr_kpca_df_2 = pd.DataFrame(data = xtr_kpca_2\n",
        "             , columns = ['feature_1', 'feature_2'])\n",
        "\n",
        "transformer = KernelPCA(n_components=4, kernel='rbf')\n",
        "xtr_kpca_4 = transformer.fit_transform(xtr)\n",
        "xte_kpca_4 = transformer.transform(xte)\n",
        "xtr_kpca_df_4 = pd.DataFrame(data = xtr_kpca_4\n",
        "             , columns = ['feature_1', 'feature_2','feature_3', 'feature_4'])\n",
        "\n",
        "transformer = KernelPCA(n_components=6, kernel='rbf')\n",
        "xtr_kpca_6 = transformer.fit_transform(xtr)\n",
        "xte_kpca_6 = transformer.transform(xte)\n",
        "xtr_kpca_df_6 = pd.DataFrame(data = xtr_kpca_6\n",
        "             , columns = ['feature_1', 'feature_2','feature_3','feature_4','feature_5','feature_6'])\n",
        "\n",
        "##AE \n",
        "\n",
        "encoder_val_2, hist_tra, hist_val = ae_arch_0(2,50,32,0.001, 0.003, 0.0001, xtr, xte)\n",
        "encoder_val_4, hist_tra, hist_val = ae_arch_0(4,50,32,0.001, 0.003, 0.0001, xtr, xte)\n",
        "encoder_val_6, hist_tra, hist_val = ae_arch_0(6,50,32,0.001, 0.003, 0.0001, xtr, xte)\n",
        "\n",
        "\n",
        "xtr_ae_2 = encoder_val_2.predict(xtr)\n",
        "xte_ae_2 = encoder_val_2.predict(xte)\n",
        "xtr_ae_4 = encoder_val_4.predict(xtr)\n",
        "xte_ae_4= encoder_val_4.predict(xte)\n",
        "xtr_ae_6 = encoder_val_6.predict(xtr)\n",
        "xte_ae_6 = encoder_val_6.predict(xte)\n",
        "\n",
        "\n"
      ],
      "execution_count": 14,
      "outputs": [
        {
          "output_type": "stream",
          "text": [
            "Model: \"functional_1\"\n",
            "_________________________________________________________________\n",
            "Layer (type)                 Output Shape              Param #   \n",
            "=================================================================\n",
            "input_1 (InputLayer)         [(None, 30)]              0         \n",
            "_________________________________________________________________\n",
            "dense (Dense)                (None, 200)               6200      \n",
            "_________________________________________________________________\n",
            "batch_normalization (BatchNo (None, 200)               800       \n",
            "_________________________________________________________________\n",
            "dense_1 (Dense)              (None, 100)               20100     \n",
            "_________________________________________________________________\n",
            "dense_2 (Dense)              (None, 2)                 202       \n",
            "_________________________________________________________________\n",
            "dense_4 (Dense)              (None, 200)               600       \n",
            "_________________________________________________________________\n",
            "dense_5 (Dense)              (None, 30)                6030      \n",
            "=================================================================\n",
            "Total params: 33,932\n",
            "Trainable params: 33,532\n",
            "Non-trainable params: 400\n",
            "_________________________________________________________________\n",
            "Compression factor: 15.0\n",
            "Epoch 1/50\n",
            "15/15 [==============================] - 0s 13ms/step - loss: 1.1609 - val_loss: 1.2000\n",
            "Epoch 2/50\n",
            "15/15 [==============================] - 0s 4ms/step - loss: 1.1279 - val_loss: 1.1749\n",
            "Epoch 3/50\n",
            "15/15 [==============================] - 0s 3ms/step - loss: 1.0841 - val_loss: 1.1382\n",
            "Epoch 4/50\n",
            "15/15 [==============================] - 0s 3ms/step - loss: 1.0439 - val_loss: 1.0932\n",
            "Epoch 5/50\n",
            "15/15 [==============================] - 0s 3ms/step - loss: 0.9886 - val_loss: 1.0456\n",
            "Epoch 6/50\n",
            "15/15 [==============================] - 0s 3ms/step - loss: 0.9531 - val_loss: 1.0040\n",
            "Epoch 7/50\n",
            "15/15 [==============================] - 0s 3ms/step - loss: 0.9312 - val_loss: 0.9769\n",
            "Epoch 8/50\n",
            "15/15 [==============================] - 0s 3ms/step - loss: 0.8994 - val_loss: 0.9512\n",
            "Epoch 9/50\n",
            "15/15 [==============================] - 0s 3ms/step - loss: 0.8820 - val_loss: 0.9357\n",
            "Epoch 10/50\n",
            "15/15 [==============================] - 0s 3ms/step - loss: 0.8693 - val_loss: 0.9158\n",
            "Epoch 11/50\n",
            "15/15 [==============================] - 0s 3ms/step - loss: 0.8604 - val_loss: 0.9015\n",
            "Epoch 12/50\n",
            "15/15 [==============================] - 0s 3ms/step - loss: 0.8516 - val_loss: 0.8881\n",
            "Epoch 13/50\n",
            "15/15 [==============================] - 0s 3ms/step - loss: 0.8448 - val_loss: 0.8701\n",
            "Epoch 14/50\n",
            "15/15 [==============================] - 0s 3ms/step - loss: 0.8275 - val_loss: 0.8503\n",
            "Epoch 15/50\n",
            "15/15 [==============================] - 0s 3ms/step - loss: 0.8189 - val_loss: 0.8367\n",
            "Epoch 16/50\n",
            "15/15 [==============================] - 0s 3ms/step - loss: 0.8015 - val_loss: 0.8131\n",
            "Epoch 17/50\n",
            "15/15 [==============================] - 0s 3ms/step - loss: 0.7977 - val_loss: 0.8010\n",
            "Epoch 18/50\n",
            "15/15 [==============================] - 0s 3ms/step - loss: 0.7761 - val_loss: 0.7759\n",
            "Epoch 19/50\n",
            "15/15 [==============================] - 0s 3ms/step - loss: 0.7618 - val_loss: 0.7626\n",
            "Epoch 20/50\n",
            "15/15 [==============================] - 0s 3ms/step - loss: 0.7477 - val_loss: 0.7480\n",
            "Epoch 21/50\n",
            "15/15 [==============================] - 0s 3ms/step - loss: 0.7397 - val_loss: 0.7366\n",
            "Epoch 22/50\n",
            "15/15 [==============================] - 0s 3ms/step - loss: 0.7349 - val_loss: 0.7275\n",
            "Epoch 23/50\n",
            "15/15 [==============================] - 0s 3ms/step - loss: 0.7185 - val_loss: 0.7180\n",
            "Epoch 24/50\n",
            "15/15 [==============================] - 0s 3ms/step - loss: 0.7150 - val_loss: 0.7103\n",
            "Epoch 25/50\n",
            "15/15 [==============================] - 0s 3ms/step - loss: 0.7114 - val_loss: 0.6983\n",
            "Epoch 26/50\n",
            "15/15 [==============================] - 0s 3ms/step - loss: 0.7017 - val_loss: 0.6958\n",
            "Epoch 27/50\n",
            "15/15 [==============================] - 0s 3ms/step - loss: 0.7052 - val_loss: 0.6889\n",
            "Epoch 28/50\n",
            "15/15 [==============================] - 0s 3ms/step - loss: 0.6901 - val_loss: 0.6776\n",
            "Epoch 29/50\n",
            "15/15 [==============================] - 0s 3ms/step - loss: 0.6951 - val_loss: 0.6702\n",
            "Epoch 30/50\n",
            "15/15 [==============================] - 0s 3ms/step - loss: 0.6785 - val_loss: 0.6695\n",
            "Epoch 31/50\n",
            "15/15 [==============================] - 0s 3ms/step - loss: 0.6799 - val_loss: 0.6637\n",
            "Epoch 32/50\n",
            "15/15 [==============================] - 0s 3ms/step - loss: 0.6757 - val_loss: 0.6575\n",
            "Epoch 33/50\n",
            "15/15 [==============================] - 0s 3ms/step - loss: 0.6651 - val_loss: 0.6526\n",
            "Epoch 34/50\n",
            "15/15 [==============================] - 0s 3ms/step - loss: 0.6599 - val_loss: 0.6480\n",
            "Epoch 35/50\n",
            "15/15 [==============================] - 0s 3ms/step - loss: 0.6538 - val_loss: 0.6419\n",
            "Epoch 36/50\n",
            "15/15 [==============================] - 0s 3ms/step - loss: 0.6486 - val_loss: 0.6363\n",
            "Epoch 37/50\n",
            "15/15 [==============================] - 0s 3ms/step - loss: 0.6410 - val_loss: 0.6319\n",
            "Epoch 38/50\n",
            "15/15 [==============================] - 0s 3ms/step - loss: 0.6356 - val_loss: 0.6273\n",
            "Epoch 39/50\n",
            "15/15 [==============================] - 0s 4ms/step - loss: 0.6356 - val_loss: 0.6228\n",
            "Epoch 40/50\n",
            "15/15 [==============================] - 0s 3ms/step - loss: 0.6329 - val_loss: 0.6172\n",
            "Epoch 41/50\n",
            "15/15 [==============================] - 0s 3ms/step - loss: 0.6212 - val_loss: 0.6123\n",
            "Epoch 42/50\n",
            "15/15 [==============================] - 0s 3ms/step - loss: 0.6166 - val_loss: 0.6077\n",
            "Epoch 43/50\n",
            "15/15 [==============================] - 0s 3ms/step - loss: 0.6230 - val_loss: 0.6031\n",
            "Epoch 44/50\n",
            "15/15 [==============================] - 0s 3ms/step - loss: 0.6123 - val_loss: 0.5974\n",
            "Epoch 45/50\n",
            "15/15 [==============================] - 0s 3ms/step - loss: 0.6044 - val_loss: 0.5921\n",
            "Epoch 46/50\n",
            "15/15 [==============================] - 0s 3ms/step - loss: 0.6013 - val_loss: 0.5893\n",
            "Epoch 47/50\n",
            "15/15 [==============================] - 0s 3ms/step - loss: 0.5981 - val_loss: 0.5867\n",
            "Epoch 48/50\n",
            "15/15 [==============================] - 0s 3ms/step - loss: 0.6104 - val_loss: 0.5814\n",
            "Epoch 49/50\n",
            "15/15 [==============================] - 0s 3ms/step - loss: 0.5956 - val_loss: 0.5767\n",
            "Epoch 50/50\n",
            "15/15 [==============================] - 0s 3ms/step - loss: 0.5873 - val_loss: 0.5739\n",
            "Model: \"functional_5\"\n",
            "_________________________________________________________________\n",
            "Layer (type)                 Output Shape              Param #   \n",
            "=================================================================\n",
            "input_2 (InputLayer)         [(None, 30)]              0         \n",
            "_________________________________________________________________\n",
            "dense_6 (Dense)              (None, 200)               6200      \n",
            "_________________________________________________________________\n",
            "batch_normalization_1 (Batch (None, 200)               800       \n",
            "_________________________________________________________________\n",
            "dense_7 (Dense)              (None, 100)               20100     \n",
            "_________________________________________________________________\n",
            "dense_8 (Dense)              (None, 4)                 404       \n",
            "_________________________________________________________________\n",
            "dense_10 (Dense)             (None, 200)               1000      \n",
            "_________________________________________________________________\n",
            "dense_11 (Dense)             (None, 30)                6030      \n",
            "=================================================================\n",
            "Total params: 34,534\n",
            "Trainable params: 34,134\n",
            "Non-trainable params: 400\n",
            "_________________________________________________________________\n",
            "Compression factor: 7.5\n",
            "Epoch 1/50\n",
            "15/15 [==============================] - 0s 10ms/step - loss: 1.1804 - val_loss: 1.2272\n",
            "Epoch 2/50\n",
            "15/15 [==============================] - 0s 3ms/step - loss: 1.1600 - val_loss: 1.2142\n",
            "Epoch 3/50\n",
            "15/15 [==============================] - 0s 3ms/step - loss: 1.1426 - val_loss: 1.1993\n",
            "Epoch 4/50\n",
            "15/15 [==============================] - 0s 3ms/step - loss: 1.1172 - val_loss: 1.1797\n",
            "Epoch 5/50\n",
            "15/15 [==============================] - 0s 3ms/step - loss: 1.0878 - val_loss: 1.1548\n",
            "Epoch 6/50\n",
            "15/15 [==============================] - 0s 3ms/step - loss: 1.0531 - val_loss: 1.1269\n",
            "Epoch 7/50\n",
            "15/15 [==============================] - 0s 4ms/step - loss: 1.0188 - val_loss: 1.0973\n",
            "Epoch 8/50\n",
            "15/15 [==============================] - 0s 3ms/step - loss: 0.9786 - val_loss: 1.0614\n",
            "Epoch 9/50\n",
            "15/15 [==============================] - 0s 3ms/step - loss: 0.9393 - val_loss: 1.0231\n",
            "Epoch 10/50\n",
            "15/15 [==============================] - 0s 3ms/step - loss: 0.8960 - val_loss: 0.9785\n",
            "Epoch 11/50\n",
            "15/15 [==============================] - 0s 3ms/step - loss: 0.8557 - val_loss: 0.9315\n",
            "Epoch 12/50\n",
            "15/15 [==============================] - 0s 3ms/step - loss: 0.8102 - val_loss: 0.8754\n",
            "Epoch 13/50\n",
            "15/15 [==============================] - 0s 4ms/step - loss: 0.7688 - val_loss: 0.8241\n",
            "Epoch 14/50\n",
            "15/15 [==============================] - 0s 3ms/step - loss: 0.7211 - val_loss: 0.7630\n",
            "Epoch 15/50\n",
            "15/15 [==============================] - 0s 3ms/step - loss: 0.6841 - val_loss: 0.7178\n",
            "Epoch 16/50\n",
            "15/15 [==============================] - 0s 3ms/step - loss: 0.6530 - val_loss: 0.6817\n",
            "Epoch 17/50\n",
            "15/15 [==============================] - 0s 3ms/step - loss: 0.6263 - val_loss: 0.6457\n",
            "Epoch 18/50\n",
            "15/15 [==============================] - 0s 3ms/step - loss: 0.5919 - val_loss: 0.6161\n",
            "Epoch 19/50\n",
            "15/15 [==============================] - 0s 3ms/step - loss: 0.5731 - val_loss: 0.5935\n",
            "Epoch 20/50\n",
            "15/15 [==============================] - 0s 3ms/step - loss: 0.5602 - val_loss: 0.5746\n",
            "Epoch 21/50\n",
            "15/15 [==============================] - 0s 3ms/step - loss: 0.5594 - val_loss: 0.5606\n",
            "Epoch 22/50\n",
            "15/15 [==============================] - 0s 3ms/step - loss: 0.5505 - val_loss: 0.5539\n",
            "Epoch 23/50\n",
            "15/15 [==============================] - 0s 3ms/step - loss: 0.5552 - val_loss: 0.5471\n",
            "Epoch 24/50\n",
            "15/15 [==============================] - 0s 4ms/step - loss: 0.5450 - val_loss: 0.5381\n",
            "Epoch 25/50\n",
            "15/15 [==============================] - 0s 4ms/step - loss: 0.5444 - val_loss: 0.5309\n",
            "Epoch 26/50\n",
            "15/15 [==============================] - 0s 3ms/step - loss: 0.5354 - val_loss: 0.5256\n",
            "Epoch 27/50\n",
            "15/15 [==============================] - 0s 3ms/step - loss: 0.5286 - val_loss: 0.5206\n",
            "Epoch 28/50\n",
            "15/15 [==============================] - 0s 3ms/step - loss: 0.5314 - val_loss: 0.5148\n",
            "Epoch 29/50\n",
            "15/15 [==============================] - 0s 3ms/step - loss: 0.5187 - val_loss: 0.5107\n",
            "Epoch 30/50\n",
            "15/15 [==============================] - 0s 3ms/step - loss: 0.5234 - val_loss: 0.5069\n",
            "Epoch 31/50\n",
            "15/15 [==============================] - 0s 3ms/step - loss: 0.5065 - val_loss: 0.5017\n",
            "Epoch 32/50\n",
            "15/15 [==============================] - 0s 3ms/step - loss: 0.5007 - val_loss: 0.4976\n",
            "Epoch 33/50\n",
            "15/15 [==============================] - 0s 3ms/step - loss: 0.5064 - val_loss: 0.4958\n",
            "Epoch 34/50\n",
            "15/15 [==============================] - 0s 3ms/step - loss: 0.4969 - val_loss: 0.4891\n",
            "Epoch 35/50\n",
            "15/15 [==============================] - 0s 4ms/step - loss: 0.4881 - val_loss: 0.4849\n",
            "Epoch 36/50\n",
            "15/15 [==============================] - 0s 3ms/step - loss: 0.5077 - val_loss: 0.4820\n",
            "Epoch 37/50\n",
            "15/15 [==============================] - 0s 3ms/step - loss: 0.4872 - val_loss: 0.4781\n",
            "Epoch 38/50\n",
            "15/15 [==============================] - 0s 3ms/step - loss: 0.4773 - val_loss: 0.4737\n",
            "Epoch 39/50\n",
            "15/15 [==============================] - 0s 3ms/step - loss: 0.4775 - val_loss: 0.4687\n",
            "Epoch 40/50\n",
            "15/15 [==============================] - 0s 3ms/step - loss: 0.4855 - val_loss: 0.4638\n",
            "Epoch 41/50\n",
            "15/15 [==============================] - 0s 3ms/step - loss: 0.4751 - val_loss: 0.4594\n",
            "Epoch 42/50\n",
            "15/15 [==============================] - 0s 3ms/step - loss: 0.4717 - val_loss: 0.4539\n",
            "Epoch 43/50\n",
            "15/15 [==============================] - 0s 4ms/step - loss: 0.4717 - val_loss: 0.4506\n",
            "Epoch 44/50\n",
            "15/15 [==============================] - 0s 3ms/step - loss: 0.4624 - val_loss: 0.4472\n",
            "Epoch 45/50\n",
            "15/15 [==============================] - 0s 3ms/step - loss: 0.4601 - val_loss: 0.4425\n",
            "Epoch 46/50\n",
            "15/15 [==============================] - 0s 3ms/step - loss: 0.4590 - val_loss: 0.4377\n",
            "Epoch 47/50\n",
            "15/15 [==============================] - 0s 3ms/step - loss: 0.4457 - val_loss: 0.4328\n",
            "Epoch 48/50\n",
            "15/15 [==============================] - 0s 3ms/step - loss: 0.4548 - val_loss: 0.4286\n",
            "Epoch 49/50\n",
            "15/15 [==============================] - 0s 3ms/step - loss: 0.4400 - val_loss: 0.4229\n",
            "Epoch 50/50\n",
            "15/15 [==============================] - 0s 3ms/step - loss: 0.4568 - val_loss: 0.4172\n",
            "Model: \"functional_9\"\n",
            "_________________________________________________________________\n",
            "Layer (type)                 Output Shape              Param #   \n",
            "=================================================================\n",
            "input_3 (InputLayer)         [(None, 30)]              0         \n",
            "_________________________________________________________________\n",
            "dense_12 (Dense)             (None, 200)               6200      \n",
            "_________________________________________________________________\n",
            "batch_normalization_2 (Batch (None, 200)               800       \n",
            "_________________________________________________________________\n",
            "dense_13 (Dense)             (None, 100)               20100     \n",
            "_________________________________________________________________\n",
            "dense_14 (Dense)             (None, 6)                 606       \n",
            "_________________________________________________________________\n",
            "dense_16 (Dense)             (None, 200)               1400      \n",
            "_________________________________________________________________\n",
            "dense_17 (Dense)             (None, 30)                6030      \n",
            "=================================================================\n",
            "Total params: 35,136\n",
            "Trainable params: 34,736\n",
            "Non-trainable params: 400\n",
            "_________________________________________________________________\n",
            "Compression factor: 5.0\n",
            "Epoch 1/50\n",
            "15/15 [==============================] - 0s 11ms/step - loss: 1.1936 - val_loss: 1.2295\n",
            "Epoch 2/50\n",
            "15/15 [==============================] - 0s 3ms/step - loss: 1.1514 - val_loss: 1.2051\n",
            "Epoch 3/50\n",
            "15/15 [==============================] - 0s 4ms/step - loss: 1.1086 - val_loss: 1.1729\n",
            "Epoch 4/50\n",
            "15/15 [==============================] - 0s 4ms/step - loss: 1.0629 - val_loss: 1.1299\n",
            "Epoch 5/50\n",
            "15/15 [==============================] - 0s 3ms/step - loss: 1.0056 - val_loss: 1.0786\n",
            "Epoch 6/50\n",
            "15/15 [==============================] - 0s 3ms/step - loss: 0.9531 - val_loss: 1.0226\n",
            "Epoch 7/50\n",
            "15/15 [==============================] - 0s 3ms/step - loss: 0.8901 - val_loss: 0.9659\n",
            "Epoch 8/50\n",
            "15/15 [==============================] - 0s 4ms/step - loss: 0.8338 - val_loss: 0.9064\n",
            "Epoch 9/50\n",
            "15/15 [==============================] - 0s 3ms/step - loss: 0.7832 - val_loss: 0.8503\n",
            "Epoch 10/50\n",
            "15/15 [==============================] - 0s 4ms/step - loss: 0.7329 - val_loss: 0.8003\n",
            "Epoch 11/50\n",
            "15/15 [==============================] - 0s 3ms/step - loss: 0.6932 - val_loss: 0.7533\n",
            "Epoch 12/50\n",
            "15/15 [==============================] - 0s 3ms/step - loss: 0.6628 - val_loss: 0.7191\n",
            "Epoch 13/50\n",
            "15/15 [==============================] - 0s 4ms/step - loss: 0.6420 - val_loss: 0.6808\n",
            "Epoch 14/50\n",
            "15/15 [==============================] - 0s 3ms/step - loss: 0.6188 - val_loss: 0.6527\n",
            "Epoch 15/50\n",
            "15/15 [==============================] - 0s 3ms/step - loss: 0.5967 - val_loss: 0.6307\n",
            "Epoch 16/50\n",
            "15/15 [==============================] - 0s 3ms/step - loss: 0.5828 - val_loss: 0.6108\n",
            "Epoch 17/50\n",
            "15/15 [==============================] - 0s 3ms/step - loss: 0.5898 - val_loss: 0.5844\n",
            "Epoch 18/50\n",
            "15/15 [==============================] - 0s 3ms/step - loss: 0.5684 - val_loss: 0.5693\n",
            "Epoch 19/50\n",
            "15/15 [==============================] - 0s 3ms/step - loss: 0.5575 - val_loss: 0.5548\n",
            "Epoch 20/50\n",
            "15/15 [==============================] - 0s 3ms/step - loss: 0.5409 - val_loss: 0.5394\n",
            "Epoch 21/50\n",
            "15/15 [==============================] - 0s 3ms/step - loss: 0.5289 - val_loss: 0.5268\n",
            "Epoch 22/50\n",
            "15/15 [==============================] - 0s 3ms/step - loss: 0.5225 - val_loss: 0.5125\n",
            "Epoch 23/50\n",
            "15/15 [==============================] - 0s 3ms/step - loss: 0.5219 - val_loss: 0.5039\n",
            "Epoch 24/50\n",
            "15/15 [==============================] - 0s 3ms/step - loss: 0.5113 - val_loss: 0.4936\n",
            "Epoch 25/50\n",
            "15/15 [==============================] - 0s 3ms/step - loss: 0.4964 - val_loss: 0.4804\n",
            "Epoch 26/50\n",
            "15/15 [==============================] - 0s 3ms/step - loss: 0.4936 - val_loss: 0.4741\n",
            "Epoch 27/50\n",
            "15/15 [==============================] - 0s 3ms/step - loss: 0.4850 - val_loss: 0.4636\n",
            "Epoch 28/50\n",
            "15/15 [==============================] - 0s 3ms/step - loss: 0.4782 - val_loss: 0.4557\n",
            "Epoch 29/50\n",
            "15/15 [==============================] - 0s 3ms/step - loss: 0.4664 - val_loss: 0.4479\n",
            "Epoch 30/50\n",
            "15/15 [==============================] - 0s 3ms/step - loss: 0.4605 - val_loss: 0.4407\n",
            "Epoch 31/50\n",
            "15/15 [==============================] - 0s 4ms/step - loss: 0.4637 - val_loss: 0.4349\n",
            "Epoch 32/50\n",
            "15/15 [==============================] - 0s 4ms/step - loss: 0.4650 - val_loss: 0.4284\n",
            "Epoch 33/50\n",
            "15/15 [==============================] - 0s 3ms/step - loss: 0.4583 - val_loss: 0.4249\n",
            "Epoch 34/50\n",
            "15/15 [==============================] - 0s 4ms/step - loss: 0.4387 - val_loss: 0.4186\n",
            "Epoch 35/50\n",
            "15/15 [==============================] - 0s 3ms/step - loss: 0.4403 - val_loss: 0.4129\n",
            "Epoch 36/50\n",
            "15/15 [==============================] - 0s 3ms/step - loss: 0.4384 - val_loss: 0.4072\n",
            "Epoch 37/50\n",
            "15/15 [==============================] - 0s 3ms/step - loss: 0.4332 - val_loss: 0.4020\n",
            "Epoch 38/50\n",
            "15/15 [==============================] - 0s 3ms/step - loss: 0.4296 - val_loss: 0.3980\n",
            "Epoch 39/50\n",
            "15/15 [==============================] - 0s 3ms/step - loss: 0.4285 - val_loss: 0.3935\n",
            "Epoch 40/50\n",
            "15/15 [==============================] - 0s 3ms/step - loss: 0.4226 - val_loss: 0.3899\n",
            "Epoch 41/50\n",
            "15/15 [==============================] - 0s 3ms/step - loss: 0.4199 - val_loss: 0.3860\n",
            "Epoch 42/50\n",
            "15/15 [==============================] - 0s 3ms/step - loss: 0.4139 - val_loss: 0.3827\n",
            "Epoch 43/50\n",
            "15/15 [==============================] - 0s 4ms/step - loss: 0.4009 - val_loss: 0.3781\n",
            "Epoch 44/50\n",
            "15/15 [==============================] - 0s 3ms/step - loss: 0.4128 - val_loss: 0.3740\n",
            "Epoch 45/50\n",
            "15/15 [==============================] - 0s 3ms/step - loss: 0.3984 - val_loss: 0.3713\n",
            "Epoch 46/50\n",
            "15/15 [==============================] - 0s 4ms/step - loss: 0.3880 - val_loss: 0.3684\n",
            "Epoch 47/50\n",
            "15/15 [==============================] - 0s 3ms/step - loss: 0.3946 - val_loss: 0.3653\n",
            "Epoch 48/50\n",
            "15/15 [==============================] - 0s 4ms/step - loss: 0.3814 - val_loss: 0.3623\n",
            "Epoch 49/50\n",
            "15/15 [==============================] - 0s 4ms/step - loss: 0.3766 - val_loss: 0.3611\n",
            "Epoch 50/50\n",
            "15/15 [==============================] - 0s 3ms/step - loss: 0.3818 - val_loss: 0.3580\n"
          ],
          "name": "stdout"
        }
      ]
    },
    {
      "cell_type": "code",
      "metadata": {
        "id": "LTsDSEGDJwbJ"
      },
      "source": [
        "## For visualization i reduce all the previous transformations to a 2D latent space\n",
        "\n",
        "pca = PCA(n_components=2)\n",
        "\n",
        "#PCA to 2D\n",
        "xtr_pca_2_2 = xtr_pca_2\n",
        "xtr_pca_4_2 = pca.fit_transform(xtr_pca_4)\n",
        "xtr_pca_6_2 = pca.fit_transform(xtr_pca_6)\n",
        "\n",
        "#KPCA to 2D\n",
        "xtr_kpca_2_2 = pca.fit_transform(xtr_kpca_2)\n",
        "xtr_kpca_4_2 = pca.fit_transform(xtr_kpca_4)\n",
        "xtr_kpca_6_2 = pca.fit_transform(xtr_kpca_6)\n",
        "\n",
        "\n",
        "#AE to 2D\n",
        "\n",
        "xtr_ae_2_2 = pca.fit_transform(xtr_ae_2)\n",
        "xtr_ae_4_2 = pca.fit_transform(xtr_ae_4)\n",
        "xtr_ae_6_2 = pca.fit_transform(xtr_ae_6)\n"
      ],
      "execution_count": 15,
      "outputs": []
    },
    {
      "cell_type": "code",
      "metadata": {
        "id": "g7LoV61cJwbL"
      },
      "source": [
        ""
      ],
      "execution_count": 15,
      "outputs": []
    },
    {
      "cell_type": "code",
      "metadata": {
        "scrolled": false,
        "id": "89PtlWNJJwbN",
        "outputId": "5ac3f085-805d-41bb-d463-4db6e5f94d85",
        "colab": {
          "base_uri": "https://localhost:8080/",
          "height": 1000
        }
      },
      "source": [
        "#Plot of all the visualizations.\n",
        "\n",
        "f, ax = plt.subplots(3,3)\n",
        "plt.subplots_adjust(wspace = 0.2, hspace = 0.2)\n",
        "\n",
        "\n",
        "ax[0,0].figure.set_size_inches((20,16))\n",
        "\n",
        "sns.scatterplot(xtr_pca_2_2[ytr.ravel() == 0,0], xtr_pca_2_2[ytr.ravel() == 0,1] ,ax= ax[0,0])\n",
        "sns.scatterplot(xtr_pca_2_2[ytr.ravel() == 1,0], xtr_pca_2_2[ytr.ravel() == 1,1], ax= ax[0,0] )\n",
        "ax[0,0].set_title(\"PCA_n2\")\n",
        "\n",
        "sns.scatterplot( xtr_pca_4_2[ytr == 0,0], xtr_pca_4_2[ytr == 0,1], ax= ax[0,1])\n",
        "sns.scatterplot( xtr_pca_4_2[ytr == 1,0], xtr_pca_4_2[ytr == 1,1], ax= ax[0,1])\n",
        "ax[0,1].set_title(\"PCA_n4\")\n",
        "\n",
        "sns.scatterplot(xtr_pca_6_2[ytr == 0,0],  xtr_pca_6_2[ytr == 0,1],ax= ax[0,2])\n",
        "sns.scatterplot( xtr_pca_6_2[ytr == 1,0], xtr_pca_6_2[ytr == 1,1],ax= ax[0,2])\n",
        "ax[0,2].set_title(\"PCA_n6\")\n",
        "\n",
        "\n",
        "sns.scatterplot(xtr_kpca_2_2[ytr == 0,0], xtr_kpca_2_2[ytr == 0,1],ax= ax[1,0])\n",
        "sns.scatterplot( xtr_kpca_2_2[ytr == 1,0], xtr_kpca_2_2[ytr == 1,1],ax= ax[1,0])\n",
        "ax[1,0].set_title(\"KPCA_n2\")\n",
        "\n",
        "sns.scatterplot(xtr_kpca_4_2[ytr == 0,0],xtr_kpca_4_2[ytr == 0,1],ax= ax[1,1])\n",
        "sns.scatterplot(xtr_kpca_4_2[ytr == 1,0], xtr_kpca_4_2[ytr == 1,1],ax= ax[1,1])\n",
        "ax[1,1].set_title(\"KPCA_n4\")\n",
        "\n",
        "\n",
        "sns.scatterplot(xtr_kpca_6_2[ytr == 0,0],  xtr_kpca_6_2[ytr == 0,1], ax= ax[1,2])\n",
        "sns.scatterplot(xtr_kpca_6_2[ytr == 1,0], xtr_kpca_6_2[ytr == 1,1], ax= ax[1,2])\n",
        "ax[1,2].set_title(\"KPCA_n6\")\n",
        "\n",
        "\n",
        "sns.scatterplot(xtr_ae_2_2[ytr == 0,0], xtr_ae_2_2[ytr == 0,1], ax= ax[2,0])\n",
        "sns.scatterplot(xtr_ae_2_2[ytr == 1,0], xtr_ae_2_2[ytr == 1,1], ax= ax[2,0])\n",
        "ax[2,0].set_title(\"AE_n2\")\n",
        "\n",
        "sns.scatterplot(xtr_ae_4_2[ytr == 0,0], xtr_ae_4_2[ytr == 0,1], ax= ax[2,1])\n",
        "sns.scatterplot(xtr_ae_4_2[ytr == 1,0], xtr_ae_4_2[ytr == 1,1], ax= ax[2,1])\n",
        "ax[2,1].set_title(\"AE_n4\")\n",
        "\n",
        "sns.scatterplot(xtr_ae_6_2[ytr == 0,0],  xtr_ae_6_2[ytr == 0,1], ax= ax[2,2])\n",
        "sns.scatterplot(xtr_ae_6_2[ytr == 1,0],  xtr_ae_6_2[ytr == 1,1], ax= ax[2,2])\n",
        "ax[2,2].set_title(\"AE_n6\")\n",
        "\n",
        "plt.show()"
      ],
      "execution_count": 16,
      "outputs": [
        {
          "output_type": "stream",
          "text": [
            "/usr/local/lib/python3.6/dist-packages/seaborn/_decorators.py:43: FutureWarning: Pass the following variables as keyword args: x, y. From version 0.12, the only valid positional argument will be `data`, and passing other arguments without an explicit keyword will result in an error or misinterpretation.\n",
            "  FutureWarning\n",
            "/usr/local/lib/python3.6/dist-packages/seaborn/_decorators.py:43: FutureWarning: Pass the following variables as keyword args: x, y. From version 0.12, the only valid positional argument will be `data`, and passing other arguments without an explicit keyword will result in an error or misinterpretation.\n",
            "  FutureWarning\n",
            "/usr/local/lib/python3.6/dist-packages/seaborn/_decorators.py:43: FutureWarning: Pass the following variables as keyword args: x, y. From version 0.12, the only valid positional argument will be `data`, and passing other arguments without an explicit keyword will result in an error or misinterpretation.\n",
            "  FutureWarning\n",
            "/usr/local/lib/python3.6/dist-packages/seaborn/_decorators.py:43: FutureWarning: Pass the following variables as keyword args: x, y. From version 0.12, the only valid positional argument will be `data`, and passing other arguments without an explicit keyword will result in an error or misinterpretation.\n",
            "  FutureWarning\n",
            "/usr/local/lib/python3.6/dist-packages/seaborn/_decorators.py:43: FutureWarning: Pass the following variables as keyword args: x, y. From version 0.12, the only valid positional argument will be `data`, and passing other arguments without an explicit keyword will result in an error or misinterpretation.\n",
            "  FutureWarning\n",
            "/usr/local/lib/python3.6/dist-packages/seaborn/_decorators.py:43: FutureWarning: Pass the following variables as keyword args: x, y. From version 0.12, the only valid positional argument will be `data`, and passing other arguments without an explicit keyword will result in an error or misinterpretation.\n",
            "  FutureWarning\n",
            "/usr/local/lib/python3.6/dist-packages/seaborn/_decorators.py:43: FutureWarning: Pass the following variables as keyword args: x, y. From version 0.12, the only valid positional argument will be `data`, and passing other arguments without an explicit keyword will result in an error or misinterpretation.\n",
            "  FutureWarning\n",
            "/usr/local/lib/python3.6/dist-packages/seaborn/_decorators.py:43: FutureWarning: Pass the following variables as keyword args: x, y. From version 0.12, the only valid positional argument will be `data`, and passing other arguments without an explicit keyword will result in an error or misinterpretation.\n",
            "  FutureWarning\n",
            "/usr/local/lib/python3.6/dist-packages/seaborn/_decorators.py:43: FutureWarning: Pass the following variables as keyword args: x, y. From version 0.12, the only valid positional argument will be `data`, and passing other arguments without an explicit keyword will result in an error or misinterpretation.\n",
            "  FutureWarning\n",
            "/usr/local/lib/python3.6/dist-packages/seaborn/_decorators.py:43: FutureWarning: Pass the following variables as keyword args: x, y. From version 0.12, the only valid positional argument will be `data`, and passing other arguments without an explicit keyword will result in an error or misinterpretation.\n",
            "  FutureWarning\n",
            "/usr/local/lib/python3.6/dist-packages/seaborn/_decorators.py:43: FutureWarning: Pass the following variables as keyword args: x, y. From version 0.12, the only valid positional argument will be `data`, and passing other arguments without an explicit keyword will result in an error or misinterpretation.\n",
            "  FutureWarning\n",
            "/usr/local/lib/python3.6/dist-packages/seaborn/_decorators.py:43: FutureWarning: Pass the following variables as keyword args: x, y. From version 0.12, the only valid positional argument will be `data`, and passing other arguments without an explicit keyword will result in an error or misinterpretation.\n",
            "  FutureWarning\n",
            "/usr/local/lib/python3.6/dist-packages/seaborn/_decorators.py:43: FutureWarning: Pass the following variables as keyword args: x, y. From version 0.12, the only valid positional argument will be `data`, and passing other arguments without an explicit keyword will result in an error or misinterpretation.\n",
            "  FutureWarning\n",
            "/usr/local/lib/python3.6/dist-packages/seaborn/_decorators.py:43: FutureWarning: Pass the following variables as keyword args: x, y. From version 0.12, the only valid positional argument will be `data`, and passing other arguments without an explicit keyword will result in an error or misinterpretation.\n",
            "  FutureWarning\n",
            "/usr/local/lib/python3.6/dist-packages/seaborn/_decorators.py:43: FutureWarning: Pass the following variables as keyword args: x, y. From version 0.12, the only valid positional argument will be `data`, and passing other arguments without an explicit keyword will result in an error or misinterpretation.\n",
            "  FutureWarning\n",
            "/usr/local/lib/python3.6/dist-packages/seaborn/_decorators.py:43: FutureWarning: Pass the following variables as keyword args: x, y. From version 0.12, the only valid positional argument will be `data`, and passing other arguments without an explicit keyword will result in an error or misinterpretation.\n",
            "  FutureWarning\n",
            "/usr/local/lib/python3.6/dist-packages/seaborn/_decorators.py:43: FutureWarning: Pass the following variables as keyword args: x, y. From version 0.12, the only valid positional argument will be `data`, and passing other arguments without an explicit keyword will result in an error or misinterpretation.\n",
            "  FutureWarning\n",
            "/usr/local/lib/python3.6/dist-packages/seaborn/_decorators.py:43: FutureWarning: Pass the following variables as keyword args: x, y. From version 0.12, the only valid positional argument will be `data`, and passing other arguments without an explicit keyword will result in an error or misinterpretation.\n",
            "  FutureWarning\n"
          ],
          "name": "stderr"
        },
        {
          "output_type": "display_data",
          "data": {
            "image/png": "[encoded data removed]",
            "text/plain": [
              "<Figure size 1440x1152 with 9 Axes>"
            ]
          },
          "metadata": {
            "tags": [],
            "needs_background": "light"
          }
        }
      ]
    },
    {
      "cell_type": "code",
      "metadata": {
        "id": "I7S2W4sNJwbP",
        "outputId": "3cdb7f47-2704-4588-90d6-15a1dd1cd37a",
        "colab": {
          "base_uri": "https://localhost:8080/"
        }
      },
      "source": [
        "from sklearn.linear_model import LogisticRegression\n",
        "from sklearn.neighbors import KNeighborsClassifier\n",
        "from sklearn import svm\n",
        "\n",
        "lr=LogisticRegression()\n",
        "knn=KNeighborsClassifier(n_neighbors=5)\n",
        "svc=svm.SVC(kernel='linear')\n",
        "#rf=RandomForestClassifier()\n",
        "#gb=GradientBoostingClassifier()\n",
        "#ex=ExtraTreesClassifier()\n",
        "\n",
        "ensemble_clf=[lr, knn, svc] \n",
        "\n",
        "params1={'penalty': ['none', 'l1', 'l2', 'elasticnet'], 'C': [1,2,5,10]}\n",
        "params2={'n_neighbors': [1,3,5,10,20], 'metric' : ['euclidean', 'manhattan', 'minkowski'], 'weights': ['uniform','distance']}\n",
        "params3={'kernel':('linear', 'rbf'), 'C':[1, 3, 5 ,10]}\n",
        "\n",
        "parameters_list=[params1, params2, params3]\n",
        "\n",
        "model_log=[\"_lr\", \"_knn\", \"_svc\"]\n",
        "\n",
        "\n",
        "result_pca_2=[]\n",
        "result_pca_4=[]\n",
        "result_pca_6=[]\n",
        "\n",
        "result_kpca_2=[]\n",
        "result_kpca_4=[]\n",
        "result_kpca_6=[]\n",
        "\n",
        "result_ae_2=[]\n",
        "result_ae_4=[]\n",
        "result_ae_6=[]\n",
        "\n",
        "\n",
        "results=[result_pca_2,result_pca_4,result_pca_6,result_kpca_2,result_kpca_4,result_kpca_6]\n",
        "\n",
        "for i in range(len(ensemble_clf)):\n",
        "    Grid_pca_2=GridSearchCV(estimator=ensemble_clf[i], param_grid=parameters_list[i], \n",
        "                      n_jobs=-1, cv=5, verbose=1).fit(xtr_pca_2, ytr)\n",
        "    Grid_pca_4=GridSearchCV(estimator=ensemble_clf[i], param_grid=parameters_list[i], \n",
        "                      n_jobs=-1, cv=5, verbose=1).fit(xtr_pca_4, ytr)\n",
        "    Grid_pca_6=GridSearchCV(estimator=ensemble_clf[i], param_grid=parameters_list[i], \n",
        "                      n_jobs=-1, cv=5, verbose=1).fit(xtr_pca_6, ytr)\n",
        "    \n",
        "    Grid_kpca_2=GridSearchCV(estimator=ensemble_clf[i], param_grid=parameters_list[i], \n",
        "                      n_jobs=-1, cv=5, verbose=1).fit(xtr_kpca_2, ytr)\n",
        "    Grid_kpca_4=GridSearchCV(estimator=ensemble_clf[i], param_grid=parameters_list[i], \n",
        "                      n_jobs=-1, cv=5, verbose=1).fit(xtr_kpca_4, ytr)\n",
        "    Grid_kpca_6=GridSearchCV(estimator=ensemble_clf[i], param_grid=parameters_list[i], \n",
        "                      n_jobs=-1, cv=5, verbose=1).fit(xtr_kpca_6, ytr)\n",
        "    \n",
        "    Grid_ae_2=GridSearchCV(estimator=ensemble_clf[i], param_grid=parameters_list[i], \n",
        "                     n_jobs=-1, cv=5, verbose=1).fit(xtr_ae_2, ytr)\n",
        "    Grid_ae_4=GridSearchCV(estimator=ensemble_clf[i], param_grid=parameters_list[i], \n",
        "                     n_jobs=-1, cv=5, verbose=1).fit(xtr_ae_4, ytr)\n",
        "    Grid_ae_6=GridSearchCV(estimator=ensemble_clf[i], param_grid=parameters_list[i], \n",
        "                     n_jobs=-1, cv=5, verbose=1).fit(xtr_ae_6, ytr)\n",
        "    \n",
        "    result_pca_2.append\\\n",
        "        ({'classifier': Grid_pca_2.best_estimator_, \n",
        "          'best score': Grid_pca_2.best_score_, \n",
        "          'best params': Grid_pca_2.best_params_ })\n",
        "    \n",
        "    result_pca_4.append\\\n",
        "        ({'classifier': Grid_pca_4.best_estimator_, \n",
        "          'best score': Grid_pca_4.best_score_, \n",
        "          'best params': Grid_pca_4.best_params_ })\n",
        "    \n",
        "    result_pca_6.append\\\n",
        "        ({'classifier': Grid_pca_6.best_estimator_, \n",
        "          'best score': Grid_pca_6.best_score_, \n",
        "          'best params': Grid_pca_6.best_params_ })\n",
        "    \n",
        "    result_kpca_2.append\\\n",
        "        ({'classifier': Grid_kpca_2.best_estimator_, \n",
        "          'best score': Grid_kpca_2.best_score_, \n",
        "          'best params': Grid_kpca_2.best_params_ })\n",
        "    \n",
        "    result_kpca_4.append\\\n",
        "        ({'classifier': Grid_kpca_4.best_estimator_, \n",
        "          'best score': Grid_kpca_4.best_score_, \n",
        "          'best params': Grid_kpca_4.best_params_ })\n",
        "    \n",
        "    result_kpca_6.append\\\n",
        "        ({'classifier': Grid_kpca_6.best_estimator_, \n",
        "          'best score': Grid_kpca_6.best_score_, \n",
        "          'best params': Grid_kpca_6.best_params_ })\n",
        "    \n",
        "    result_ae_2.append\\\n",
        "        ({'classifier': Grid_ae_2.best_estimator_, \n",
        "          'best score': Grid_ae_2.best_score_, \n",
        "          'best params': Grid_ae_2.best_params_ })\n",
        "    \n",
        "    result_ae_4.append\\\n",
        "        ({'classifier': Grid_ae_4.best_estimator_, \n",
        "          'best score': Grid_ae_4.best_score_, \n",
        "          'best params': Grid_ae_4.best_params_ })\n",
        "    \n",
        "    result_ae_6.append\\\n",
        "        ({'classifier': Grid_ae_6.best_estimator_, \n",
        "          'best score': Grid_ae_6.best_score_, \n",
        "          'best params': Grid_ae_6.best_params_ })\n",
        "    \n",
        "    \n",
        "        "
      ],
      "execution_count": 17,
      "outputs": [
        {
          "output_type": "stream",
          "text": [
            "Fitting 5 folds for each of 16 candidates, totalling 80 fits\n"
          ],
          "name": "stdout"
        },
        {
          "output_type": "stream",
          "text": [
            "[Parallel(n_jobs=-1)]: Using backend LokyBackend with 2 concurrent workers.\n",
            "[Parallel(n_jobs=-1)]: Done  80 out of  80 | elapsed:    1.3s finished\n",
            "[Parallel(n_jobs=-1)]: Using backend LokyBackend with 2 concurrent workers.\n"
          ],
          "name": "stderr"
        },
        {
          "output_type": "stream",
          "text": [
            "Fitting 5 folds for each of 16 candidates, totalling 80 fits\n"
          ],
          "name": "stdout"
        },
        {
          "output_type": "stream",
          "text": [
            "[Parallel(n_jobs=-1)]: Done  80 out of  80 | elapsed:    0.3s finished\n",
            "[Parallel(n_jobs=-1)]: Using backend LokyBackend with 2 concurrent workers.\n"
          ],
          "name": "stderr"
        },
        {
          "output_type": "stream",
          "text": [
            "Fitting 5 folds for each of 16 candidates, totalling 80 fits\n"
          ],
          "name": "stdout"
        },
        {
          "output_type": "stream",
          "text": [
            "[Parallel(n_jobs=-1)]: Done  80 out of  80 | elapsed:    0.3s finished\n",
            "[Parallel(n_jobs=-1)]: Using backend LokyBackend with 2 concurrent workers.\n"
          ],
          "name": "stderr"
        },
        {
          "output_type": "stream",
          "text": [
            "Fitting 5 folds for each of 16 candidates, totalling 80 fits\n"
          ],
          "name": "stdout"
        },
        {
          "output_type": "stream",
          "text": [
            "[Parallel(n_jobs=-1)]: Done  80 out of  80 | elapsed:    0.3s finished\n",
            "[Parallel(n_jobs=-1)]: Using backend LokyBackend with 2 concurrent workers.\n"
          ],
          "name": "stderr"
        },
        {
          "output_type": "stream",
          "text": [
            "Fitting 5 folds for each of 16 candidates, totalling 80 fits\n"
          ],
          "name": "stdout"
        },
        {
          "output_type": "stream",
          "text": [
            "[Parallel(n_jobs=-1)]: Done  80 out of  80 | elapsed:    0.3s finished\n",
            "[Parallel(n_jobs=-1)]: Using backend LokyBackend with 2 concurrent workers.\n"
          ],
          "name": "stderr"
        },
        {
          "output_type": "stream",
          "text": [
            "Fitting 5 folds for each of 16 candidates, totalling 80 fits\n"
          ],
          "name": "stdout"
        },
        {
          "output_type": "stream",
          "text": [
            "[Parallel(n_jobs=-1)]: Done  80 out of  80 | elapsed:    0.3s finished\n",
            "[Parallel(n_jobs=-1)]: Using backend LokyBackend with 2 concurrent workers.\n"
          ],
          "name": "stderr"
        },
        {
          "output_type": "stream",
          "text": [
            "Fitting 5 folds for each of 16 candidates, totalling 80 fits\n"
          ],
          "name": "stdout"
        },
        {
          "output_type": "stream",
          "text": [
            "[Parallel(n_jobs=-1)]: Done  80 out of  80 | elapsed:    0.3s finished\n",
            "[Parallel(n_jobs=-1)]: Using backend LokyBackend with 2 concurrent workers.\n"
          ],
          "name": "stderr"
        },
        {
          "output_type": "stream",
          "text": [
            "Fitting 5 folds for each of 16 candidates, totalling 80 fits\n"
          ],
          "name": "stdout"
        },
        {
          "output_type": "stream",
          "text": [
            "[Parallel(n_jobs=-1)]: Done  80 out of  80 | elapsed:    0.3s finished\n",
            "[Parallel(n_jobs=-1)]: Using backend LokyBackend with 2 concurrent workers.\n"
          ],
          "name": "stderr"
        },
        {
          "output_type": "stream",
          "text": [
            "Fitting 5 folds for each of 16 candidates, totalling 80 fits\n"
          ],
          "name": "stdout"
        },
        {
          "output_type": "stream",
          "text": [
            "[Parallel(n_jobs=-1)]: Done  80 out of  80 | elapsed:    0.3s finished\n",
            "[Parallel(n_jobs=-1)]: Using backend LokyBackend with 2 concurrent workers.\n"
          ],
          "name": "stderr"
        },
        {
          "output_type": "stream",
          "text": [
            "Fitting 5 folds for each of 30 candidates, totalling 150 fits\n"
          ],
          "name": "stdout"
        },
        {
          "output_type": "stream",
          "text": [
            "[Parallel(n_jobs=-1)]: Done 150 out of 150 | elapsed:    0.6s finished\n",
            "[Parallel(n_jobs=-1)]: Using backend LokyBackend with 2 concurrent workers.\n"
          ],
          "name": "stderr"
        },
        {
          "output_type": "stream",
          "text": [
            "Fitting 5 folds for each of 30 candidates, totalling 150 fits\n"
          ],
          "name": "stdout"
        },
        {
          "output_type": "stream",
          "text": [
            "[Parallel(n_jobs=-1)]: Done 150 out of 150 | elapsed:    0.6s finished\n",
            "[Parallel(n_jobs=-1)]: Using backend LokyBackend with 2 concurrent workers.\n"
          ],
          "name": "stderr"
        },
        {
          "output_type": "stream",
          "text": [
            "Fitting 5 folds for each of 30 candidates, totalling 150 fits\n"
          ],
          "name": "stdout"
        },
        {
          "output_type": "stream",
          "text": [
            "[Parallel(n_jobs=-1)]: Done 150 out of 150 | elapsed:    0.6s finished\n",
            "[Parallel(n_jobs=-1)]: Using backend LokyBackend with 2 concurrent workers.\n"
          ],
          "name": "stderr"
        },
        {
          "output_type": "stream",
          "text": [
            "Fitting 5 folds for each of 30 candidates, totalling 150 fits\n"
          ],
          "name": "stdout"
        },
        {
          "output_type": "stream",
          "text": [
            "[Parallel(n_jobs=-1)]: Done 150 out of 150 | elapsed:    0.6s finished\n",
            "[Parallel(n_jobs=-1)]: Using backend LokyBackend with 2 concurrent workers.\n"
          ],
          "name": "stderr"
        },
        {
          "output_type": "stream",
          "text": [
            "Fitting 5 folds for each of 30 candidates, totalling 150 fits\n"
          ],
          "name": "stdout"
        },
        {
          "output_type": "stream",
          "text": [
            "[Parallel(n_jobs=-1)]: Done 150 out of 150 | elapsed:    0.6s finished\n",
            "[Parallel(n_jobs=-1)]: Using backend LokyBackend with 2 concurrent workers.\n"
          ],
          "name": "stderr"
        },
        {
          "output_type": "stream",
          "text": [
            "Fitting 5 folds for each of 30 candidates, totalling 150 fits\n"
          ],
          "name": "stdout"
        },
        {
          "output_type": "stream",
          "text": [
            "[Parallel(n_jobs=-1)]: Done 150 out of 150 | elapsed:    0.6s finished\n",
            "[Parallel(n_jobs=-1)]: Using backend LokyBackend with 2 concurrent workers.\n"
          ],
          "name": "stderr"
        },
        {
          "output_type": "stream",
          "text": [
            "Fitting 5 folds for each of 30 candidates, totalling 150 fits\n"
          ],
          "name": "stdout"
        },
        {
          "output_type": "stream",
          "text": [
            "[Parallel(n_jobs=-1)]: Done 150 out of 150 | elapsed:    0.6s finished\n",
            "[Parallel(n_jobs=-1)]: Using backend LokyBackend with 2 concurrent workers.\n"
          ],
          "name": "stderr"
        },
        {
          "output_type": "stream",
          "text": [
            "Fitting 5 folds for each of 30 candidates, totalling 150 fits\n"
          ],
          "name": "stdout"
        },
        {
          "output_type": "stream",
          "text": [
            "[Parallel(n_jobs=-1)]: Done 150 out of 150 | elapsed:    0.5s finished\n",
            "[Parallel(n_jobs=-1)]: Using backend LokyBackend with 2 concurrent workers.\n"
          ],
          "name": "stderr"
        },
        {
          "output_type": "stream",
          "text": [
            "Fitting 5 folds for each of 30 candidates, totalling 150 fits\n"
          ],
          "name": "stdout"
        },
        {
          "output_type": "stream",
          "text": [
            "[Parallel(n_jobs=-1)]: Done 150 out of 150 | elapsed:    0.5s finished\n",
            "[Parallel(n_jobs=-1)]: Using backend LokyBackend with 2 concurrent workers.\n",
            "[Parallel(n_jobs=-1)]: Done  40 out of  40 | elapsed:    0.1s finished\n",
            "[Parallel(n_jobs=-1)]: Using backend LokyBackend with 2 concurrent workers.\n"
          ],
          "name": "stderr"
        },
        {
          "output_type": "stream",
          "text": [
            "Fitting 5 folds for each of 8 candidates, totalling 40 fits\n",
            "Fitting 5 folds for each of 8 candidates, totalling 40 fits\n"
          ],
          "name": "stdout"
        },
        {
          "output_type": "stream",
          "text": [
            "[Parallel(n_jobs=-1)]: Done  40 out of  40 | elapsed:    0.1s finished\n",
            "[Parallel(n_jobs=-1)]: Using backend LokyBackend with 2 concurrent workers.\n",
            "[Parallel(n_jobs=-1)]: Done  40 out of  40 | elapsed:    0.2s finished\n",
            "[Parallel(n_jobs=-1)]: Using backend LokyBackend with 2 concurrent workers.\n"
          ],
          "name": "stderr"
        },
        {
          "output_type": "stream",
          "text": [
            "Fitting 5 folds for each of 8 candidates, totalling 40 fits\n",
            "Fitting 5 folds for each of 8 candidates, totalling 40 fits\n"
          ],
          "name": "stdout"
        },
        {
          "output_type": "stream",
          "text": [
            "[Parallel(n_jobs=-1)]: Done  40 out of  40 | elapsed:    0.1s finished\n",
            "[Parallel(n_jobs=-1)]: Using backend LokyBackend with 2 concurrent workers.\n",
            "[Parallel(n_jobs=-1)]: Done  40 out of  40 | elapsed:    0.1s finished\n",
            "[Parallel(n_jobs=-1)]: Using backend LokyBackend with 2 concurrent workers.\n"
          ],
          "name": "stderr"
        },
        {
          "output_type": "stream",
          "text": [
            "Fitting 5 folds for each of 8 candidates, totalling 40 fits\n",
            "Fitting 5 folds for each of 8 candidates, totalling 40 fits\n"
          ],
          "name": "stdout"
        },
        {
          "output_type": "stream",
          "text": [
            "[Parallel(n_jobs=-1)]: Done  40 out of  40 | elapsed:    0.1s finished\n",
            "[Parallel(n_jobs=-1)]: Using backend LokyBackend with 2 concurrent workers.\n",
            "[Parallel(n_jobs=-1)]: Done  40 out of  40 | elapsed:    0.1s finished\n",
            "[Parallel(n_jobs=-1)]: Using backend LokyBackend with 2 concurrent workers.\n"
          ],
          "name": "stderr"
        },
        {
          "output_type": "stream",
          "text": [
            "Fitting 5 folds for each of 8 candidates, totalling 40 fits\n",
            "Fitting 5 folds for each of 8 candidates, totalling 40 fits\n",
            "Fitting 5 folds for each of 8 candidates, totalling 40 fits\n"
          ],
          "name": "stdout"
        },
        {
          "output_type": "stream",
          "text": [
            "[Parallel(n_jobs=-1)]: Done  40 out of  40 | elapsed:    0.2s finished\n",
            "[Parallel(n_jobs=-1)]: Using backend LokyBackend with 2 concurrent workers.\n",
            "[Parallel(n_jobs=-1)]: Done  40 out of  40 | elapsed:    0.1s finished\n"
          ],
          "name": "stderr"
        }
      ]
    },
    {
      "cell_type": "code",
      "metadata": {
        "id": "v-dL7kBIJwbR",
        "outputId": "d11b0c47-f754-4b38-ad74-09a4e59acb6c",
        "colab": {
          "base_uri": "https://localhost:8080/"
        }
      },
      "source": [
        "print(result_pca_2)"
      ],
      "execution_count": 18,
      "outputs": [
        {
          "output_type": "stream",
          "text": [
            "[{'classifier': LogisticRegression(C=1, class_weight=None, dual=False, fit_intercept=True,\n",
            "                   intercept_scaling=1, l1_ratio=None, max_iter=100,\n",
            "                   multi_class='auto', n_jobs=None, penalty='none',\n",
            "                   random_state=None, solver='lbfgs', tol=0.0001, verbose=0,\n",
            "                   warm_start=False), 'best score': 0.9582417582417582, 'best params': {'C': 1, 'penalty': 'none'}}, {'classifier': KNeighborsClassifier(algorithm='auto', leaf_size=30, metric='euclidean',\n",
            "                     metric_params=None, n_jobs=None, n_neighbors=20, p=2,\n",
            "                     weights='distance'), 'best score': 0.9428571428571428, 'best params': {'metric': 'euclidean', 'n_neighbors': 20, 'weights': 'distance'}}, {'classifier': SVC(C=10, break_ties=False, cache_size=200, class_weight=None, coef0=0.0,\n",
            "    decision_function_shape='ovr', degree=3, gamma='scale', kernel='linear',\n",
            "    max_iter=-1, probability=False, random_state=None, shrinking=True,\n",
            "    tol=0.001, verbose=False), 'best score': 0.9604395604395604, 'best params': {'C': 10, 'kernel': 'linear'}}]\n"
          ],
          "name": "stdout"
        }
      ]
    },
    {
      "cell_type": "code",
      "metadata": {
        "id": "gqmOA9HLJwbT",
        "outputId": "c9fd31f7-f134-401f-ce4e-ebe4631f3a62",
        "colab": {
          "base_uri": "https://localhost:8080/"
        }
      },
      "source": [
        "print(result_pca_4)"
      ],
      "execution_count": 19,
      "outputs": [
        {
          "output_type": "stream",
          "text": [
            "[{'classifier': LogisticRegression(C=1, class_weight=None, dual=False, fit_intercept=True,\n",
            "                   intercept_scaling=1, l1_ratio=None, max_iter=100,\n",
            "                   multi_class='auto', n_jobs=None, penalty='l2',\n",
            "                   random_state=None, solver='lbfgs', tol=0.0001, verbose=0,\n",
            "                   warm_start=False), 'best score': 0.9626373626373625, 'best params': {'C': 1, 'penalty': 'l2'}}, {'classifier': KNeighborsClassifier(algorithm='auto', leaf_size=30, metric='euclidean',\n",
            "                     metric_params=None, n_jobs=None, n_neighbors=20, p=2,\n",
            "                     weights='uniform'), 'best score': 0.9428571428571428, 'best params': {'metric': 'euclidean', 'n_neighbors': 20, 'weights': 'uniform'}}, {'classifier': SVC(C=1, break_ties=False, cache_size=200, class_weight=None, coef0=0.0,\n",
            "    decision_function_shape='ovr', degree=3, gamma='scale', kernel='linear',\n",
            "    max_iter=-1, probability=False, random_state=None, shrinking=True,\n",
            "    tol=0.001, verbose=False), 'best score': 0.9604395604395604, 'best params': {'C': 1, 'kernel': 'linear'}}]\n"
          ],
          "name": "stdout"
        }
      ]
    },
    {
      "cell_type": "code",
      "metadata": {
        "id": "p3C9MtjaJwbV",
        "outputId": "f0929648-4f6d-4556-89d1-d197f8e9dbec",
        "colab": {
          "base_uri": "https://localhost:8080/"
        }
      },
      "source": [
        "print(result_pca_6)"
      ],
      "execution_count": 20,
      "outputs": [
        {
          "output_type": "stream",
          "text": [
            "[{'classifier': LogisticRegression(C=1, class_weight=None, dual=False, fit_intercept=True,\n",
            "                   intercept_scaling=1, l1_ratio=None, max_iter=100,\n",
            "                   multi_class='auto', n_jobs=None, penalty='l2',\n",
            "                   random_state=None, solver='lbfgs', tol=0.0001, verbose=0,\n",
            "                   warm_start=False), 'best score': 0.9670329670329672, 'best params': {'C': 1, 'penalty': 'l2'}}, {'classifier': KNeighborsClassifier(algorithm='auto', leaf_size=30, metric='manhattan',\n",
            "                     metric_params=None, n_jobs=None, n_neighbors=10, p=2,\n",
            "                     weights='uniform'), 'best score': 0.9516483516483516, 'best params': {'metric': 'manhattan', 'n_neighbors': 10, 'weights': 'uniform'}}, {'classifier': SVC(C=1, break_ties=False, cache_size=200, class_weight=None, coef0=0.0,\n",
            "    decision_function_shape='ovr', degree=3, gamma='scale', kernel='linear',\n",
            "    max_iter=-1, probability=False, random_state=None, shrinking=True,\n",
            "    tol=0.001, verbose=False), 'best score': 0.9604395604395604, 'best params': {'C': 1, 'kernel': 'linear'}}]\n"
          ],
          "name": "stdout"
        }
      ]
    },
    {
      "cell_type": "code",
      "metadata": {
        "id": "2HF94P6PJwbW",
        "outputId": "a19ff380-5501-4698-bc61-11cee07ec20e",
        "colab": {
          "base_uri": "https://localhost:8080/"
        }
      },
      "source": [
        "print(result_kpca_2)"
      ],
      "execution_count": 21,
      "outputs": [
        {
          "output_type": "stream",
          "text": [
            "[{'classifier': LogisticRegression(C=1, class_weight=None, dual=False, fit_intercept=True,\n",
            "                   intercept_scaling=1, l1_ratio=None, max_iter=100,\n",
            "                   multi_class='auto', n_jobs=None, penalty='none',\n",
            "                   random_state=None, solver='lbfgs', tol=0.0001, verbose=0,\n",
            "                   warm_start=False), 'best score': 0.9538461538461538, 'best params': {'C': 1, 'penalty': 'none'}}, {'classifier': KNeighborsClassifier(algorithm='auto', leaf_size=30, metric='manhattan',\n",
            "                     metric_params=None, n_jobs=None, n_neighbors=10, p=2,\n",
            "                     weights='distance'), 'best score': 0.9428571428571428, 'best params': {'metric': 'manhattan', 'n_neighbors': 10, 'weights': 'distance'}}, {'classifier': SVC(C=10, break_ties=False, cache_size=200, class_weight=None, coef0=0.0,\n",
            "    decision_function_shape='ovr', degree=3, gamma='scale', kernel='linear',\n",
            "    max_iter=-1, probability=False, random_state=None, shrinking=True,\n",
            "    tol=0.001, verbose=False), 'best score': 0.9516483516483516, 'best params': {'C': 10, 'kernel': 'linear'}}]\n"
          ],
          "name": "stdout"
        }
      ]
    },
    {
      "cell_type": "code",
      "metadata": {
        "id": "4Y2bKEkIJwbY",
        "outputId": "d12402a7-2c08-4f0c-e15e-26a8f1078fef",
        "colab": {
          "base_uri": "https://localhost:8080/"
        }
      },
      "source": [
        "print(result_kpca_4)"
      ],
      "execution_count": 22,
      "outputs": [
        {
          "output_type": "stream",
          "text": [
            "[{'classifier': LogisticRegression(C=1, class_weight=None, dual=False, fit_intercept=True,\n",
            "                   intercept_scaling=1, l1_ratio=None, max_iter=100,\n",
            "                   multi_class='auto', n_jobs=None, penalty='none',\n",
            "                   random_state=None, solver='lbfgs', tol=0.0001, verbose=0,\n",
            "                   warm_start=False), 'best score': 0.9472527472527472, 'best params': {'C': 1, 'penalty': 'none'}}, {'classifier': KNeighborsClassifier(algorithm='auto', leaf_size=30, metric='manhattan',\n",
            "                     metric_params=None, n_jobs=None, n_neighbors=5, p=2,\n",
            "                     weights='uniform'), 'best score': 0.9406593406593406, 'best params': {'metric': 'manhattan', 'n_neighbors': 5, 'weights': 'uniform'}}, {'classifier': SVC(C=10, break_ties=False, cache_size=200, class_weight=None, coef0=0.0,\n",
            "    decision_function_shape='ovr', degree=3, gamma='scale', kernel='linear',\n",
            "    max_iter=-1, probability=False, random_state=None, shrinking=True,\n",
            "    tol=0.001, verbose=False), 'best score': 0.9494505494505494, 'best params': {'C': 10, 'kernel': 'linear'}}]\n"
          ],
          "name": "stdout"
        }
      ]
    },
    {
      "cell_type": "code",
      "metadata": {
        "id": "SQjes7Q1Jwba",
        "outputId": "f7ccab19-5127-4f85-9a7b-16bd45dbc899",
        "colab": {
          "base_uri": "https://localhost:8080/"
        }
      },
      "source": [
        "print(result_kpca_6)"
      ],
      "execution_count": 23,
      "outputs": [
        {
          "output_type": "stream",
          "text": [
            "[{'classifier': LogisticRegression(C=1, class_weight=None, dual=False, fit_intercept=True,\n",
            "                   intercept_scaling=1, l1_ratio=None, max_iter=100,\n",
            "                   multi_class='auto', n_jobs=None, penalty='none',\n",
            "                   random_state=None, solver='lbfgs', tol=0.0001, verbose=0,\n",
            "                   warm_start=False), 'best score': 0.9670329670329669, 'best params': {'C': 1, 'penalty': 'none'}}, {'classifier': KNeighborsClassifier(algorithm='auto', leaf_size=30, metric='euclidean',\n",
            "                     metric_params=None, n_jobs=None, n_neighbors=10, p=2,\n",
            "                     weights='uniform'), 'best score': 0.945054945054945, 'best params': {'metric': 'euclidean', 'n_neighbors': 10, 'weights': 'uniform'}}, {'classifier': SVC(C=5, break_ties=False, cache_size=200, class_weight=None, coef0=0.0,\n",
            "    decision_function_shape='ovr', degree=3, gamma='scale', kernel='linear',\n",
            "    max_iter=-1, probability=False, random_state=None, shrinking=True,\n",
            "    tol=0.001, verbose=False), 'best score': 0.964835164835165, 'best params': {'C': 5, 'kernel': 'linear'}}]\n"
          ],
          "name": "stdout"
        }
      ]
    },
    {
      "cell_type": "code",
      "metadata": {
        "id": "mgnM6ybmJwbc",
        "outputId": "3c05f526-fd27-40a2-f5d6-38d2879e960c",
        "colab": {
          "base_uri": "https://localhost:8080/"
        }
      },
      "source": [
        "print(result_ae_2)"
      ],
      "execution_count": 24,
      "outputs": [
        {
          "output_type": "stream",
          "text": [
            "[{'classifier': LogisticRegression(C=5, class_weight=None, dual=False, fit_intercept=True,\n",
            "                   intercept_scaling=1, l1_ratio=None, max_iter=100,\n",
            "                   multi_class='auto', n_jobs=None, penalty='l2',\n",
            "                   random_state=None, solver='lbfgs', tol=0.0001, verbose=0,\n",
            "                   warm_start=False), 'best score': 0.9670329670329672, 'best params': {'C': 5, 'penalty': 'l2'}}, {'classifier': KNeighborsClassifier(algorithm='auto', leaf_size=30, metric='manhattan',\n",
            "                     metric_params=None, n_jobs=None, n_neighbors=5, p=2,\n",
            "                     weights='uniform'), 'best score': 0.9626373626373625, 'best params': {'metric': 'manhattan', 'n_neighbors': 5, 'weights': 'uniform'}}, {'classifier': SVC(C=10, break_ties=False, cache_size=200, class_weight=None, coef0=0.0,\n",
            "    decision_function_shape='ovr', degree=3, gamma='scale', kernel='linear',\n",
            "    max_iter=-1, probability=False, random_state=None, shrinking=True,\n",
            "    tol=0.001, verbose=False), 'best score': 0.9648351648351647, 'best params': {'C': 10, 'kernel': 'linear'}}]\n"
          ],
          "name": "stdout"
        }
      ]
    },
    {
      "cell_type": "code",
      "metadata": {
        "id": "ATtRALcwJwbe",
        "outputId": "330a9260-ea60-468e-cef9-5832129faf9d",
        "colab": {
          "base_uri": "https://localhost:8080/"
        }
      },
      "source": [
        "print(result_ae_4)"
      ],
      "execution_count": 25,
      "outputs": [
        {
          "output_type": "stream",
          "text": [
            "[{'classifier': LogisticRegression(C=1, class_weight=None, dual=False, fit_intercept=True,\n",
            "                   intercept_scaling=1, l1_ratio=None, max_iter=100,\n",
            "                   multi_class='auto', n_jobs=None, penalty='none',\n",
            "                   random_state=None, solver='lbfgs', tol=0.0001, verbose=0,\n",
            "                   warm_start=False), 'best score': 0.945054945054945, 'best params': {'C': 1, 'penalty': 'none'}}, {'classifier': KNeighborsClassifier(algorithm='auto', leaf_size=30, metric='euclidean',\n",
            "                     metric_params=None, n_jobs=None, n_neighbors=20, p=2,\n",
            "                     weights='distance'), 'best score': 0.9384615384615385, 'best params': {'metric': 'euclidean', 'n_neighbors': 20, 'weights': 'distance'}}, {'classifier': SVC(C=3, break_ties=False, cache_size=200, class_weight=None, coef0=0.0,\n",
            "    decision_function_shape='ovr', degree=3, gamma='scale', kernel='linear',\n",
            "    max_iter=-1, probability=False, random_state=None, shrinking=True,\n",
            "    tol=0.001, verbose=False), 'best score': 0.9428571428571428, 'best params': {'C': 3, 'kernel': 'linear'}}]\n"
          ],
          "name": "stdout"
        }
      ]
    },
    {
      "cell_type": "code",
      "metadata": {
        "id": "vPo62GLjJwbf",
        "outputId": "f6bf2e10-fe26-489b-be11-904f725f3502",
        "colab": {
          "base_uri": "https://localhost:8080/"
        }
      },
      "source": [
        "print(result_ae_6)"
      ],
      "execution_count": 26,
      "outputs": [
        {
          "output_type": "stream",
          "text": [
            "[{'classifier': LogisticRegression(C=1, class_weight=None, dual=False, fit_intercept=True,\n",
            "                   intercept_scaling=1, l1_ratio=None, max_iter=100,\n",
            "                   multi_class='auto', n_jobs=None, penalty='none',\n",
            "                   random_state=None, solver='lbfgs', tol=0.0001, verbose=0,\n",
            "                   warm_start=False), 'best score': 0.9626373626373625, 'best params': {'C': 1, 'penalty': 'none'}}, {'classifier': KNeighborsClassifier(algorithm='auto', leaf_size=30, metric='manhattan',\n",
            "                     metric_params=None, n_jobs=None, n_neighbors=10, p=2,\n",
            "                     weights='uniform'), 'best score': 0.9582417582417584, 'best params': {'metric': 'manhattan', 'n_neighbors': 10, 'weights': 'uniform'}}, {'classifier': SVC(C=3, break_ties=False, cache_size=200, class_weight=None, coef0=0.0,\n",
            "    decision_function_shape='ovr', degree=3, gamma='scale', kernel='linear',\n",
            "    max_iter=-1, probability=False, random_state=None, shrinking=True,\n",
            "    tol=0.001, verbose=False), 'best score': 0.9604395604395604, 'best params': {'C': 3, 'kernel': 'linear'}}]\n"
          ],
          "name": "stdout"
        }
      ]
    },
    {
      "cell_type": "code",
      "metadata": {
        "id": "THgdVIHVJwbh"
      },
      "source": [
        "from sklearn.linear_model import LogisticRegression\n",
        "\n",
        "#PCA\n",
        "model_lr_1 = LogisticRegression(C=1 ,penalty= 'l2' )\n",
        "model_lr_2 = LogisticRegression(C=1 ,penalty= 'none')\n",
        "model_lr_3 = LogisticRegression(C=1 ,penalty= 'l2')\n",
        "\n",
        "model_lr_1.fit(xtr_pca_2, ytr)\n",
        "model_lr_2.fit(xtr_pca_4, ytr)\n",
        "model_lr_3.fit(xtr_pca_6, ytr)\n",
        "\n",
        "y_pred_model_lr_1 = model_lr_1.predict(xte_pca_2)\n",
        "y_pred_model_lr_2 = model_lr_2.predict(xte_pca_4)\n",
        "y_pred_model_lr_3 = model_lr_3.predict(xte_pca_6)\n",
        "\n",
        "#KPCA\n",
        "model_lr_4 = LogisticRegression(C= 1, penalty= 'none' )\n",
        "model_lr_5 = LogisticRegression(C= 10, penalty= 'l2' )\n",
        "model_lr_6 = LogisticRegression(C= 5, penalty= 'l2' )\n",
        "\n",
        "\n",
        "model_lr_4.fit(xtr_kpca_2, ytr)\n",
        "model_lr_5.fit(xtr_kpca_4, ytr)\n",
        "model_lr_6.fit(xtr_kpca_6, ytr)\n",
        "\n",
        "\n",
        "y_pred_model_lr_4 = model_lr_4.predict(xte_kpca_2)\n",
        "y_pred_model_lr_5 = model_lr_5.predict(xte_kpca_4)\n",
        "y_pred_model_lr_6 = model_lr_6.predict(xte_kpca_6)\n",
        "\n",
        "#AE\n",
        "model_lr_7 = LogisticRegression(C=1 ,penalty= 'none')\n",
        "model_lr_8 = LogisticRegression(C=1 ,penalty= 'none')\n",
        "model_lr_9 = LogisticRegression(C=1 ,penalty= 'none')\n",
        "\n",
        "model_lr_7.fit(xtr_ae_2, ytr)\n",
        "model_lr_8.fit(xtr_ae_4, ytr)\n",
        "model_lr_9.fit(xtr_ae_6, ytr)\n",
        "\n",
        "y_pred_model_lr_7 = model_lr_7.predict(xte_ae_2)\n",
        "y_pred_model_lr_8 = model_lr_8.predict(xte_ae_4)\n",
        "y_pred_model_lr_9 = model_lr_9.predict(xte_ae_6)"
      ],
      "execution_count": 27,
      "outputs": []
    },
    {
      "cell_type": "code",
      "metadata": {
        "id": "8JRzXPVKJwbj"
      },
      "source": [
        "from sklearn.neighbors import KNeighborsClassifier\n",
        "\n",
        "#PCA\n",
        "model_knn_1 = KNeighborsClassifier(metric= 'manhattan', n_neighbors =  10, weights = 'uniform')\n",
        "model_knn_2 = KNeighborsClassifier(metric= 'manhattan', n_neighbors =  1, weights = 'uniform')\n",
        "model_knn_3 = KNeighborsClassifier(metric= 'manhattan', n_neighbors =  1, weights = 'uniform')\n",
        "\n",
        "model_knn_1.fit(xtr_pca_2, ytr)\n",
        "model_knn_2.fit(xtr_pca_4, ytr)\n",
        "model_knn_3.fit(xtr_pca_6, ytr)\n",
        "\n",
        "\n",
        "y_pred_model_knn_1 = model_knn_1.predict(xte_pca_2)\n",
        "y_pred_model_knn_2 = model_knn_2.predict(xte_pca_4)\n",
        "y_pred_model_knn_3 = model_knn_3.predict(xte_pca_6)\n",
        "\n",
        "\n",
        "#KPCA\n",
        "model_knn_4 = KNeighborsClassifier(metric= 'manhattan', n_neighbors =  5, weights = 'uniform')\n",
        "model_knn_5 = KNeighborsClassifier(metric= 'euclidean', n_neighbors =  10, weights = 'distance')\n",
        "model_knn_6 = KNeighborsClassifier(metric= 'euclidean', n_neighbors =  1, weights = 'uniform')\n",
        "\n",
        "model_knn_4.fit(xtr_kpca_2, ytr)\n",
        "model_knn_5.fit(xtr_kpca_4, ytr)\n",
        "model_knn_6.fit(xtr_kpca_6, ytr)\n",
        "\n",
        "\n",
        "y_pred_model_knn_4 = model_knn_4.predict(xte_kpca_2)\n",
        "y_pred_model_knn_5 = model_knn_5.predict(xte_kpca_4)\n",
        "y_pred_model_knn_6 = model_knn_6.predict(xte_kpca_6)\n",
        "\n",
        "#AE\n",
        "model_knn_7 = KNeighborsClassifier(metric= 'euclidean', n_neighbors =  5, weights = 'uniform')\n",
        "model_knn_8 = KNeighborsClassifier(metric= 'euclidean', n_neighbors =  5, weights = 'uniform')\n",
        "model_knn_9 = KNeighborsClassifier(metric= 'euclidean', n_neighbors =  3, weights = 'uniform')\n",
        "\n",
        "\n",
        "model_knn_7.fit(xtr_ae_2, ytr)\n",
        "model_knn_8.fit(xtr_ae_4, ytr)\n",
        "model_knn_9.fit(xtr_ae_6, ytr)\n",
        "\n",
        "y_pred_model_knn_7 = model_knn_7.predict(xte_ae_2)\n",
        "y_pred_model_knn_8 = model_knn_8.predict(xte_ae_4)\n",
        "y_pred_model_knn_9 = model_knn_9.predict(xte_ae_6)"
      ],
      "execution_count": 28,
      "outputs": []
    },
    {
      "cell_type": "code",
      "metadata": {
        "id": "OLFKIvGGJwbl"
      },
      "source": [
        "from sklearn import svm\n",
        "#PCA\n",
        "model_svm_1 = svm.SVC(C=3, kernel='linear')\n",
        "model_svm_2 = svm.SVC(C=10, kernel='linear')\n",
        "model_svm_3 = svm.SVC(C=5, kernel='linear')\n",
        "\n",
        "model_svm_1.fit(xtr_pca_2, ytr)\n",
        "model_svm_2.fit(xtr_pca_4, ytr)\n",
        "model_svm_3.fit(xtr_pca_6, ytr)\n",
        "\n",
        "y_pred_model_svm_1 = model_svm_1.predict(xte_pca_2)\n",
        "y_pred_model_svm_2 = model_svm_2.predict(xte_pca_4)\n",
        "y_pred_model_svm_3 = model_svm_3.predict(xte_pca_6)\n",
        "\n",
        "#KPCA\n",
        "model_svm_4 = svm.SVC(C=10, kernel='linear')\n",
        "model_svm_5 = svm.SVC(C=10, kernel='linear')\n",
        "model_svm_6 = svm.SVC(C=10, kernel='linear')\n",
        "\n",
        "model_svm_4.fit(xtr_kpca_2, ytr)\n",
        "model_svm_5.fit(xtr_kpca_4, ytr)\n",
        "model_svm_6.fit(xtr_kpca_6, ytr)\n",
        "\n",
        "y_pred_model_svm_4 = model_svm_4.predict(xte_kpca_2)\n",
        "y_pred_model_svm_5 = model_svm_5.predict(xte_kpca_4)\n",
        "y_pred_model_svm_6 = model_svm_6.predict(xte_kpca_6)\n",
        "\n",
        "#AE\n",
        "model_svm_7 = svm.SVC(C=1, kernel='linear')\n",
        "model_svm_8 = svm.SVC(C=3, kernel='linear')\n",
        "model_svm_9 = svm.SVC(C=10, kernel='rbf')\n",
        "\n",
        "model_svm_7.fit(xtr_ae_2, ytr)\n",
        "model_svm_8.fit(xtr_ae_4, ytr)\n",
        "model_svm_9.fit(xtr_ae_6, ytr)\n",
        "\n",
        "y_pred_model_svm_7 = model_svm_7.predict(xte_ae_2)\n",
        "y_pred_model_svm_8 = model_svm_8.predict(xte_ae_4)\n",
        "y_pred_model_svm_9 = model_svm_9.predict(xte_ae_6)\n"
      ],
      "execution_count": 29,
      "outputs": []
    },
    {
      "cell_type": "code",
      "metadata": {
        "id": "XZk6ZSA_Jwbn",
        "outputId": "bdfcfef1-a4ca-4f37-9e3d-8d38f51ee79f",
        "colab": {
          "base_uri": "https://localhost:8080/"
        }
      },
      "source": [
        "from sklearn.metrics import classification_report\n",
        "print(classification_report(yte,y_pred_model_lr_1))\n",
        "\n"
      ],
      "execution_count": 30,
      "outputs": [
        {
          "output_type": "stream",
          "text": [
            "              precision    recall  f1-score   support\n",
            "\n",
            "           0       0.93      0.84      0.88        45\n",
            "           1       0.90      0.96      0.93        69\n",
            "\n",
            "    accuracy                           0.91       114\n",
            "   macro avg       0.92      0.90      0.91       114\n",
            "weighted avg       0.91      0.91      0.91       114\n",
            "\n"
          ],
          "name": "stdout"
        }
      ]
    },
    {
      "cell_type": "code",
      "metadata": {
        "id": "Dw6EMOo3Jwbq",
        "outputId": "6b4c352f-e7c6-41f0-c013-47ee50533156",
        "colab": {
          "base_uri": "https://localhost:8080/"
        }
      },
      "source": [
        "from sklearn.metrics import classification_report\n",
        "print(classification_report(yte,y_pred_model_lr_2))"
      ],
      "execution_count": 31,
      "outputs": [
        {
          "output_type": "stream",
          "text": [
            "              precision    recall  f1-score   support\n",
            "\n",
            "           0       0.98      0.91      0.94        45\n",
            "           1       0.94      0.99      0.96        69\n",
            "\n",
            "    accuracy                           0.96       114\n",
            "   macro avg       0.96      0.95      0.95       114\n",
            "weighted avg       0.96      0.96      0.96       114\n",
            "\n"
          ],
          "name": "stdout"
        }
      ]
    },
    {
      "cell_type": "code",
      "metadata": {
        "id": "D2mYl0-jJwbs",
        "outputId": "73ff79bf-45df-4423-b979-6ff363794cd1",
        "colab": {
          "base_uri": "https://localhost:8080/"
        }
      },
      "source": [
        "from sklearn.metrics import classification_report\n",
        "print(classification_report(yte,y_pred_model_lr_3))"
      ],
      "execution_count": 32,
      "outputs": [
        {
          "output_type": "stream",
          "text": [
            "              precision    recall  f1-score   support\n",
            "\n",
            "           0       0.98      0.98      0.98        45\n",
            "           1       0.99      0.99      0.99        69\n",
            "\n",
            "    accuracy                           0.98       114\n",
            "   macro avg       0.98      0.98      0.98       114\n",
            "weighted avg       0.98      0.98      0.98       114\n",
            "\n"
          ],
          "name": "stdout"
        }
      ]
    },
    {
      "cell_type": "code",
      "metadata": {
        "id": "-Key4fsYJwbt",
        "outputId": "66230481-f35d-4a4e-e866-d7f3923bfc3b",
        "colab": {
          "base_uri": "https://localhost:8080/"
        }
      },
      "source": [
        "from sklearn.metrics import classification_report\n",
        "print(classification_report(yte,y_pred_model_lr_4))"
      ],
      "execution_count": 33,
      "outputs": [
        {
          "output_type": "stream",
          "text": [
            "              precision    recall  f1-score   support\n",
            "\n",
            "           0       0.93      0.89      0.91        45\n",
            "           1       0.93      0.96      0.94        69\n",
            "\n",
            "    accuracy                           0.93       114\n",
            "   macro avg       0.93      0.92      0.93       114\n",
            "weighted avg       0.93      0.93      0.93       114\n",
            "\n"
          ],
          "name": "stdout"
        }
      ]
    },
    {
      "cell_type": "code",
      "metadata": {
        "id": "zIVofKr8Jwbx",
        "outputId": "b862402b-0d4b-4d20-e925-687300197fb1",
        "colab": {
          "base_uri": "https://localhost:8080/"
        }
      },
      "source": [
        "from sklearn.metrics import classification_report\n",
        "print(classification_report(yte,y_pred_model_lr_5))"
      ],
      "execution_count": 34,
      "outputs": [
        {
          "output_type": "stream",
          "text": [
            "              precision    recall  f1-score   support\n",
            "\n",
            "           0       0.93      0.91      0.92        45\n",
            "           1       0.94      0.96      0.95        69\n",
            "\n",
            "    accuracy                           0.94       114\n",
            "   macro avg       0.94      0.93      0.94       114\n",
            "weighted avg       0.94      0.94      0.94       114\n",
            "\n"
          ],
          "name": "stdout"
        }
      ]
    },
    {
      "cell_type": "code",
      "metadata": {
        "id": "oNc5MTQEJwby",
        "outputId": "cb64fb43-87c6-4d4b-f2b8-4c682951973e",
        "colab": {
          "base_uri": "https://localhost:8080/"
        }
      },
      "source": [
        "from sklearn.metrics import classification_report\n",
        "print(classification_report(yte,y_pred_model_lr_6))"
      ],
      "execution_count": 35,
      "outputs": [
        {
          "output_type": "stream",
          "text": [
            "              precision    recall  f1-score   support\n",
            "\n",
            "           0       0.98      0.93      0.95        45\n",
            "           1       0.96      0.99      0.97        69\n",
            "\n",
            "    accuracy                           0.96       114\n",
            "   macro avg       0.97      0.96      0.96       114\n",
            "weighted avg       0.97      0.96      0.96       114\n",
            "\n"
          ],
          "name": "stdout"
        }
      ]
    },
    {
      "cell_type": "code",
      "metadata": {
        "id": "Yn7uGvZzVO5f",
        "outputId": "55db766d-63f2-4c4f-a265-5b3a61fcea4c",
        "colab": {
          "base_uri": "https://localhost:8080/"
        }
      },
      "source": [
        "from sklearn.metrics import classification_report\n",
        "print(classification_report(yte,y_pred_model_lr_7))"
      ],
      "execution_count": 36,
      "outputs": [
        {
          "output_type": "stream",
          "text": [
            "              precision    recall  f1-score   support\n",
            "\n",
            "           0       0.93      0.89      0.91        45\n",
            "           1       0.93      0.96      0.94        69\n",
            "\n",
            "    accuracy                           0.93       114\n",
            "   macro avg       0.93      0.92      0.93       114\n",
            "weighted avg       0.93      0.93      0.93       114\n",
            "\n"
          ],
          "name": "stdout"
        }
      ]
    },
    {
      "cell_type": "code",
      "metadata": {
        "id": "diJ_AbQbVQEm",
        "outputId": "7a3335ac-7f84-4d7b-ebdc-36b5e6adf1a2",
        "colab": {
          "base_uri": "https://localhost:8080/"
        }
      },
      "source": [
        "from sklearn.metrics import classification_report\n",
        "print(classification_report(yte,y_pred_model_lr_8))"
      ],
      "execution_count": 37,
      "outputs": [
        {
          "output_type": "stream",
          "text": [
            "              precision    recall  f1-score   support\n",
            "\n",
            "           0       0.95      0.91      0.93        45\n",
            "           1       0.94      0.97      0.96        69\n",
            "\n",
            "    accuracy                           0.95       114\n",
            "   macro avg       0.95      0.94      0.94       114\n",
            "weighted avg       0.95      0.95      0.95       114\n",
            "\n"
          ],
          "name": "stdout"
        }
      ]
    },
    {
      "cell_type": "code",
      "metadata": {
        "id": "cpmeKPI6VRt1",
        "outputId": "370c0cf1-9d44-4b75-ed90-462faa357061",
        "colab": {
          "base_uri": "https://localhost:8080/"
        }
      },
      "source": [
        "from sklearn.metrics import classification_report\n",
        "print(classification_report(yte,y_pred_model_lr_9))"
      ],
      "execution_count": 38,
      "outputs": [
        {
          "output_type": "stream",
          "text": [
            "              precision    recall  f1-score   support\n",
            "\n",
            "           0       0.95      0.93      0.94        45\n",
            "           1       0.96      0.97      0.96        69\n",
            "\n",
            "    accuracy                           0.96       114\n",
            "   macro avg       0.96      0.95      0.95       114\n",
            "weighted avg       0.96      0.96      0.96       114\n",
            "\n"
          ],
          "name": "stdout"
        }
      ]
    },
    {
      "cell_type": "code",
      "metadata": {
        "id": "YyPSsu8AJwb0",
        "outputId": "8e23991c-3b84-46c9-fd78-e9ef730d2a6e",
        "colab": {
          "base_uri": "https://localhost:8080/"
        }
      },
      "source": [
        "from sklearn.metrics import classification_report\n",
        "print(classification_report(yte,y_pred_model_knn_1))"
      ],
      "execution_count": 39,
      "outputs": [
        {
          "output_type": "stream",
          "text": [
            "              precision    recall  f1-score   support\n",
            "\n",
            "           0       0.95      0.89      0.92        45\n",
            "           1       0.93      0.97      0.95        69\n",
            "\n",
            "    accuracy                           0.94       114\n",
            "   macro avg       0.94      0.93      0.93       114\n",
            "weighted avg       0.94      0.94      0.94       114\n",
            "\n"
          ],
          "name": "stdout"
        }
      ]
    },
    {
      "cell_type": "code",
      "metadata": {
        "id": "1buaCbipJwb2",
        "outputId": "67d4c09a-fa11-4308-bed0-0b1b0a3c6f13",
        "colab": {
          "base_uri": "https://localhost:8080/"
        }
      },
      "source": [
        "from sklearn.metrics import classification_report\n",
        "print(classification_report(yte,y_pred_model_knn_2))"
      ],
      "execution_count": 40,
      "outputs": [
        {
          "output_type": "stream",
          "text": [
            "              precision    recall  f1-score   support\n",
            "\n",
            "           0       0.98      0.93      0.95        45\n",
            "           1       0.96      0.99      0.97        69\n",
            "\n",
            "    accuracy                           0.96       114\n",
            "   macro avg       0.97      0.96      0.96       114\n",
            "weighted avg       0.97      0.96      0.96       114\n",
            "\n"
          ],
          "name": "stdout"
        }
      ]
    },
    {
      "cell_type": "code",
      "metadata": {
        "id": "WxGbQNCtJwb4",
        "outputId": "73beabd3-23c5-4b54-bc48-a13c7bcc8711",
        "colab": {
          "base_uri": "https://localhost:8080/"
        }
      },
      "source": [
        "from sklearn.metrics import classification_report\n",
        "print(classification_report(yte,y_pred_model_knn_3))"
      ],
      "execution_count": 41,
      "outputs": [
        {
          "output_type": "stream",
          "text": [
            "              precision    recall  f1-score   support\n",
            "\n",
            "           0       1.00      0.96      0.98        45\n",
            "           1       0.97      1.00      0.99        69\n",
            "\n",
            "    accuracy                           0.98       114\n",
            "   macro avg       0.99      0.98      0.98       114\n",
            "weighted avg       0.98      0.98      0.98       114\n",
            "\n"
          ],
          "name": "stdout"
        }
      ]
    },
    {
      "cell_type": "code",
      "metadata": {
        "id": "4iN_sT2HJwb5",
        "outputId": "36fde7e1-f7ca-4994-d258-ad7a203d29d4",
        "colab": {
          "base_uri": "https://localhost:8080/"
        }
      },
      "source": [
        "from sklearn.metrics import classification_report\n",
        "print(classification_report(yte,y_pred_model_knn_4))"
      ],
      "execution_count": 42,
      "outputs": [
        {
          "output_type": "stream",
          "text": [
            "              precision    recall  f1-score   support\n",
            "\n",
            "           0       0.93      0.91      0.92        45\n",
            "           1       0.94      0.96      0.95        69\n",
            "\n",
            "    accuracy                           0.94       114\n",
            "   macro avg       0.94      0.93      0.94       114\n",
            "weighted avg       0.94      0.94      0.94       114\n",
            "\n"
          ],
          "name": "stdout"
        }
      ]
    },
    {
      "cell_type": "code",
      "metadata": {
        "id": "4itDLA1WJwb7",
        "outputId": "92c43316-6d04-4617-b906-f70844e3f434",
        "colab": {
          "base_uri": "https://localhost:8080/"
        }
      },
      "source": [
        "from sklearn.metrics import classification_report\n",
        "print(classification_report(yte,y_pred_model_knn_5))"
      ],
      "execution_count": 43,
      "outputs": [
        {
          "output_type": "stream",
          "text": [
            "              precision    recall  f1-score   support\n",
            "\n",
            "           0       0.90      0.84      0.87        45\n",
            "           1       0.90      0.94      0.92        69\n",
            "\n",
            "    accuracy                           0.90       114\n",
            "   macro avg       0.90      0.89      0.90       114\n",
            "weighted avg       0.90      0.90      0.90       114\n",
            "\n"
          ],
          "name": "stdout"
        }
      ]
    },
    {
      "cell_type": "code",
      "metadata": {
        "id": "gqDsW5ixJwb-",
        "outputId": "b8700c53-f0db-4059-8b6b-77bdf9711e73",
        "colab": {
          "base_uri": "https://localhost:8080/"
        }
      },
      "source": [
        "from sklearn.metrics import classification_report\n",
        "print(classification_report(yte,y_pred_model_knn_6))"
      ],
      "execution_count": 44,
      "outputs": [
        {
          "output_type": "stream",
          "text": [
            "              precision    recall  f1-score   support\n",
            "\n",
            "           0       0.95      0.93      0.94        45\n",
            "           1       0.96      0.97      0.96        69\n",
            "\n",
            "    accuracy                           0.96       114\n",
            "   macro avg       0.96      0.95      0.95       114\n",
            "weighted avg       0.96      0.96      0.96       114\n",
            "\n"
          ],
          "name": "stdout"
        }
      ]
    },
    {
      "cell_type": "code",
      "metadata": {
        "id": "7hf9-K6wVJ7u",
        "outputId": "04afcdee-21f9-498a-8507-39771fe2f74a",
        "colab": {
          "base_uri": "https://localhost:8080/"
        }
      },
      "source": [
        "from sklearn.metrics import classification_report\n",
        "print(classification_report(yte,y_pred_model_knn_7))"
      ],
      "execution_count": 45,
      "outputs": [
        {
          "output_type": "stream",
          "text": [
            "              precision    recall  f1-score   support\n",
            "\n",
            "           0       0.96      1.00      0.98        45\n",
            "           1       1.00      0.97      0.99        69\n",
            "\n",
            "    accuracy                           0.98       114\n",
            "   macro avg       0.98      0.99      0.98       114\n",
            "weighted avg       0.98      0.98      0.98       114\n",
            "\n"
          ],
          "name": "stdout"
        }
      ]
    },
    {
      "cell_type": "code",
      "metadata": {
        "id": "rEYJS8PeVLRS",
        "outputId": "0aa1828e-a4b5-44dc-b0d9-b89f95f84c6d",
        "colab": {
          "base_uri": "https://localhost:8080/"
        }
      },
      "source": [
        "from sklearn.metrics import classification_report\n",
        "print(classification_report(yte,y_pred_model_knn_8))"
      ],
      "execution_count": 46,
      "outputs": [
        {
          "output_type": "stream",
          "text": [
            "              precision    recall  f1-score   support\n",
            "\n",
            "           0       0.95      0.82      0.88        45\n",
            "           1       0.89      0.97      0.93        69\n",
            "\n",
            "    accuracy                           0.91       114\n",
            "   macro avg       0.92      0.90      0.91       114\n",
            "weighted avg       0.92      0.91      0.91       114\n",
            "\n"
          ],
          "name": "stdout"
        }
      ]
    },
    {
      "cell_type": "code",
      "metadata": {
        "id": "ZL8-EtEkVMsb",
        "outputId": "f27a2e7e-5771-4a6a-88c6-fdafdcfadb9d",
        "colab": {
          "base_uri": "https://localhost:8080/"
        }
      },
      "source": [
        "from sklearn.metrics import classification_report\n",
        "print(classification_report(yte,y_pred_model_knn_9))"
      ],
      "execution_count": 47,
      "outputs": [
        {
          "output_type": "stream",
          "text": [
            "              precision    recall  f1-score   support\n",
            "\n",
            "           0       0.98      0.91      0.94        45\n",
            "           1       0.94      0.99      0.96        69\n",
            "\n",
            "    accuracy                           0.96       114\n",
            "   macro avg       0.96      0.95      0.95       114\n",
            "weighted avg       0.96      0.96      0.96       114\n",
            "\n"
          ],
          "name": "stdout"
        }
      ]
    },
    {
      "cell_type": "code",
      "metadata": {
        "id": "BSKs7pOVJwcA",
        "outputId": "a29e2443-7635-4489-c1c1-78d3a36731a9",
        "colab": {
          "base_uri": "https://localhost:8080/"
        }
      },
      "source": [
        "from sklearn.metrics import classification_report\n",
        "print(classification_report(yte,y_pred_model_svm_1))"
      ],
      "execution_count": 48,
      "outputs": [
        {
          "output_type": "stream",
          "text": [
            "              precision    recall  f1-score   support\n",
            "\n",
            "           0       0.93      0.84      0.88        45\n",
            "           1       0.90      0.96      0.93        69\n",
            "\n",
            "    accuracy                           0.91       114\n",
            "   macro avg       0.92      0.90      0.91       114\n",
            "weighted avg       0.91      0.91      0.91       114\n",
            "\n"
          ],
          "name": "stdout"
        }
      ]
    },
    {
      "cell_type": "code",
      "metadata": {
        "id": "SG8lj_2YJwcB",
        "outputId": "99867c46-97ae-4756-aab7-1b6acef02483",
        "colab": {
          "base_uri": "https://localhost:8080/"
        }
      },
      "source": [
        "from sklearn.metrics import classification_report\n",
        "print(classification_report(yte,y_pred_model_svm_2))"
      ],
      "execution_count": 49,
      "outputs": [
        {
          "output_type": "stream",
          "text": [
            "              precision    recall  f1-score   support\n",
            "\n",
            "           0       0.98      0.91      0.94        45\n",
            "           1       0.94      0.99      0.96        69\n",
            "\n",
            "    accuracy                           0.96       114\n",
            "   macro avg       0.96      0.95      0.95       114\n",
            "weighted avg       0.96      0.96      0.96       114\n",
            "\n"
          ],
          "name": "stdout"
        }
      ]
    },
    {
      "cell_type": "code",
      "metadata": {
        "id": "_Rlj3Hz5JwcD",
        "outputId": "d9f7c9ef-586d-4bf5-9687-de812a7e14c5",
        "colab": {
          "base_uri": "https://localhost:8080/"
        }
      },
      "source": [
        "from sklearn.metrics import classification_report\n",
        "print(classification_report(yte,y_pred_model_svm_3))"
      ],
      "execution_count": 50,
      "outputs": [
        {
          "output_type": "stream",
          "text": [
            "              precision    recall  f1-score   support\n",
            "\n",
            "           0       1.00      0.98      0.99        45\n",
            "           1       0.99      1.00      0.99        69\n",
            "\n",
            "    accuracy                           0.99       114\n",
            "   macro avg       0.99      0.99      0.99       114\n",
            "weighted avg       0.99      0.99      0.99       114\n",
            "\n"
          ],
          "name": "stdout"
        }
      ]
    },
    {
      "cell_type": "code",
      "metadata": {
        "id": "UAgNn-ylJwcF",
        "outputId": "60abd6cb-ef7d-44a3-f3f6-2a9e18e65d94",
        "colab": {
          "base_uri": "https://localhost:8080/"
        }
      },
      "source": [
        "from sklearn.metrics import classification_report\n",
        "print(classification_report(yte,y_pred_model_svm_4))"
      ],
      "execution_count": 51,
      "outputs": [
        {
          "output_type": "stream",
          "text": [
            "              precision    recall  f1-score   support\n",
            "\n",
            "           0       0.93      0.89      0.91        45\n",
            "           1       0.93      0.96      0.94        69\n",
            "\n",
            "    accuracy                           0.93       114\n",
            "   macro avg       0.93      0.92      0.93       114\n",
            "weighted avg       0.93      0.93      0.93       114\n",
            "\n"
          ],
          "name": "stdout"
        }
      ]
    },
    {
      "cell_type": "code",
      "metadata": {
        "id": "FHyIBiWJJwcH",
        "outputId": "d200237c-9862-4207-9d18-9411326a4238",
        "colab": {
          "base_uri": "https://localhost:8080/"
        }
      },
      "source": [
        "from sklearn.metrics import classification_report\n",
        "print(classification_report(yte,y_pred_model_svm_5))"
      ],
      "execution_count": 52,
      "outputs": [
        {
          "output_type": "stream",
          "text": [
            "              precision    recall  f1-score   support\n",
            "\n",
            "           0       0.93      0.93      0.93        45\n",
            "           1       0.96      0.96      0.96        69\n",
            "\n",
            "    accuracy                           0.95       114\n",
            "   macro avg       0.94      0.94      0.94       114\n",
            "weighted avg       0.95      0.95      0.95       114\n",
            "\n"
          ],
          "name": "stdout"
        }
      ]
    },
    {
      "cell_type": "code",
      "metadata": {
        "id": "pqCXIqegJwcK",
        "outputId": "fd7ea2fe-0a4a-4eba-fcd8-c1e3854c37f6",
        "colab": {
          "base_uri": "https://localhost:8080/"
        }
      },
      "source": [
        "from sklearn.metrics import classification_report\n",
        "print(classification_report(yte,y_pred_model_svm_6))"
      ],
      "execution_count": 53,
      "outputs": [
        {
          "output_type": "stream",
          "text": [
            "              precision    recall  f1-score   support\n",
            "\n",
            "           0       0.98      0.96      0.97        45\n",
            "           1       0.97      0.99      0.98        69\n",
            "\n",
            "    accuracy                           0.97       114\n",
            "   macro avg       0.97      0.97      0.97       114\n",
            "weighted avg       0.97      0.97      0.97       114\n",
            "\n"
          ],
          "name": "stdout"
        }
      ]
    },
    {
      "cell_type": "code",
      "metadata": {
        "id": "N3K33pSgVFd7",
        "outputId": "ea0ba018-a1a4-4338-a4c8-625ce807821f",
        "colab": {
          "base_uri": "https://localhost:8080/"
        }
      },
      "source": [
        "from sklearn.metrics import classification_report\n",
        "print(classification_report(yte,y_pred_model_svm_7))"
      ],
      "execution_count": 54,
      "outputs": [
        {
          "output_type": "stream",
          "text": [
            "              precision    recall  f1-score   support\n",
            "\n",
            "           0       0.93      0.91      0.92        45\n",
            "           1       0.94      0.96      0.95        69\n",
            "\n",
            "    accuracy                           0.94       114\n",
            "   macro avg       0.94      0.93      0.94       114\n",
            "weighted avg       0.94      0.94      0.94       114\n",
            "\n"
          ],
          "name": "stdout"
        }
      ]
    },
    {
      "cell_type": "code",
      "metadata": {
        "id": "cv2nosUvVGsP",
        "outputId": "308b7b2f-81c0-44af-d324-d919cf2e6e2b",
        "colab": {
          "base_uri": "https://localhost:8080/"
        }
      },
      "source": [
        "from sklearn.metrics import classification_report\n",
        "print(classification_report(yte,y_pred_model_svm_8))"
      ],
      "execution_count": 55,
      "outputs": [
        {
          "output_type": "stream",
          "text": [
            "              precision    recall  f1-score   support\n",
            "\n",
            "           0       0.95      0.91      0.93        45\n",
            "           1       0.94      0.97      0.96        69\n",
            "\n",
            "    accuracy                           0.95       114\n",
            "   macro avg       0.95      0.94      0.94       114\n",
            "weighted avg       0.95      0.95      0.95       114\n",
            "\n"
          ],
          "name": "stdout"
        }
      ]
    },
    {
      "cell_type": "code",
      "metadata": {
        "id": "UOUWfPAJVHta",
        "outputId": "9e9ddd87-9b7b-42fc-96b8-2b20b158c039",
        "colab": {
          "base_uri": "https://localhost:8080/"
        }
      },
      "source": [
        "from sklearn.metrics import classification_report\n",
        "print(classification_report(yte,y_pred_model_svm_9))"
      ],
      "execution_count": 56,
      "outputs": [
        {
          "output_type": "stream",
          "text": [
            "              precision    recall  f1-score   support\n",
            "\n",
            "           0       0.96      0.96      0.96        45\n",
            "           1       0.97      0.97      0.97        69\n",
            "\n",
            "    accuracy                           0.96       114\n",
            "   macro avg       0.96      0.96      0.96       114\n",
            "weighted avg       0.96      0.96      0.96       114\n",
            "\n"
          ],
          "name": "stdout"
        }
      ]
    },
    {
      "cell_type": "code",
      "metadata": {
        "id": "YtAUQAefJwcN"
      },
      "source": [
        "accuracy_model_svm = []\n",
        "accuracy_model_knn = []\n",
        "accuracy_model_lr = []\n",
        "from sklearn.metrics import accuracy_score\n",
        "for i in range (1,10):\n",
        "    accuracy_model_svm.append(('model_svm_' + str(i), (accuracy_score(yte, globals()[\"y_pred_model_svm_\" + str(i)]))))\n",
        "    accuracy_model_knn.append(('model_knn_' + str(i), (accuracy_score(yte, globals()[\"y_pred_model_knn_\" + str(i)]))))\n",
        "    accuracy_model_lr.append(('model_lr_' + str(i), (accuracy_score(yte, globals()[\"y_pred_model_lr_\" + str(i)]))))"
      ],
      "execution_count": 57,
      "outputs": []
    },
    {
      "cell_type": "code",
      "metadata": {
        "id": "uNH2YQNXJwcP",
        "outputId": "f1725282-cf7d-48b3-d26b-882f31ff2023",
        "colab": {
          "base_uri": "https://localhost:8080/"
        }
      },
      "source": [
        "print(accuracy_model_svm)\n",
        "print(\"\\n\")\n",
        "print(accuracy_model_knn)\n",
        "print(\"\\n\")\n",
        "print(accuracy_model_lr)\n"
      ],
      "execution_count": 58,
      "outputs": [
        {
          "output_type": "stream",
          "text": [
            "[('model_svm_1', 0.9122807017543859), ('model_svm_2', 0.956140350877193), ('model_svm_3', 0.9912280701754386), ('model_svm_4', 0.9298245614035088), ('model_svm_5', 0.9473684210526315), ('model_svm_6', 0.9736842105263158), ('model_svm_7', 0.9385964912280702), ('model_svm_8', 0.9473684210526315), ('model_svm_9', 0.9649122807017544)]\n",
            "\n",
            "\n",
            "[('model_knn_1', 0.9385964912280702), ('model_knn_2', 0.9649122807017544), ('model_knn_3', 0.9824561403508771), ('model_knn_4', 0.9385964912280702), ('model_knn_5', 0.9035087719298246), ('model_knn_6', 0.956140350877193), ('model_knn_7', 0.9824561403508771), ('model_knn_8', 0.9122807017543859), ('model_knn_9', 0.956140350877193)]\n",
            "\n",
            "\n",
            "[('model_lr_1', 0.9122807017543859), ('model_lr_2', 0.956140350877193), ('model_lr_3', 0.9824561403508771), ('model_lr_4', 0.9298245614035088), ('model_lr_5', 0.9385964912280702), ('model_lr_6', 0.9649122807017544), ('model_lr_7', 0.9298245614035088), ('model_lr_8', 0.9473684210526315), ('model_lr_9', 0.956140350877193)]\n"
          ],
          "name": "stdout"
        }
      ]
    },
    {
      "cell_type": "code",
      "metadata": {
        "id": "GJQoYkj7jhyb"
      },
      "source": [
        "precision_model_svm = []\n",
        "precision_model_knn = []\n",
        "precision_model_lr = []\n",
        "from sklearn.metrics import precision_score\n",
        "for i in range (1,10):\n",
        "    precision_model_svm.append(('model_svm_' + str(i), (precision_score(yte, globals()[\"y_pred_model_svm_\" + str(i)]))))\n",
        "    precision_model_knn.append(('model_knn_' + str(i), (precision_score(yte, globals()[\"y_pred_model_knn_\" + str(i)]))))\n",
        "    precision_model_lr.append(('model_lr_' + str(i), (precision_score(yte, globals()[\"y_pred_model_lr_\" + str(i)]))))"
      ],
      "execution_count": 59,
      "outputs": []
    },
    {
      "cell_type": "code",
      "metadata": {
        "id": "DnrdMMgVjh8J",
        "outputId": "d2306039-0758-4606-e116-2ba23eba89d5",
        "colab": {
          "base_uri": "https://localhost:8080/"
        }
      },
      "source": [
        "print(precision_model_svm)\n",
        "print(\"\\n\")\n",
        "print(precision_model_knn)\n",
        "print(\"\\n\")\n",
        "print(precision_model_lr)"
      ],
      "execution_count": 60,
      "outputs": [
        {
          "output_type": "stream",
          "text": [
            "[('model_svm_1', 0.9041095890410958), ('model_svm_2', 0.9444444444444444), ('model_svm_3', 0.9857142857142858), ('model_svm_4', 0.9295774647887324), ('model_svm_5', 0.9565217391304348), ('model_svm_6', 0.9714285714285714), ('model_svm_7', 0.9428571428571428), ('model_svm_8', 0.9436619718309859), ('model_svm_9', 0.9710144927536232)]\n",
            "\n",
            "\n",
            "[('model_knn_1', 0.9305555555555556), ('model_knn_2', 0.9577464788732394), ('model_knn_3', 0.971830985915493), ('model_knn_4', 0.9428571428571428), ('model_knn_5', 0.9027777777777778), ('model_knn_6', 0.9571428571428572), ('model_knn_7', 1.0), ('model_knn_8', 0.8933333333333333), ('model_knn_9', 0.9444444444444444)]\n",
            "\n",
            "\n",
            "[('model_lr_1', 0.9041095890410958), ('model_lr_2', 0.9444444444444444), ('model_lr_3', 0.9855072463768116), ('model_lr_4', 0.9295774647887324), ('model_lr_5', 0.9428571428571428), ('model_lr_6', 0.9577464788732394), ('model_lr_7', 0.9295774647887324), ('model_lr_8', 0.9436619718309859), ('model_lr_9', 0.9571428571428572)]\n"
          ],
          "name": "stdout"
        }
      ]
    },
    {
      "cell_type": "code",
      "metadata": {
        "id": "spUw6RyvjiM0"
      },
      "source": [
        "from sklearn.metrics import roc_auc_score\n",
        "roc_auc_score(yte,y_pred_model_svm_6)\n",
        "\n",
        "roc_auc_model_svm = []\n",
        "roc_auc_model_knn = []\n",
        "roc_auc_model_lr = []\n",
        "from sklearn.metrics import roc_auc_score\n",
        "for i in range (1,10):\n",
        "    roc_auc_model_svm.append(('model_svm_' + str(i), (roc_auc_score(yte, globals()[\"y_pred_model_svm_\" + str(i)]))))\n",
        "    roc_auc_model_knn.append(('model_knn_' + str(i), (roc_auc_score(yte, globals()[\"y_pred_model_knn_\" + str(i)]))))\n",
        "    roc_auc_model_lr.append(('model_lr_' + str(i), (roc_auc_score(yte, globals()[\"y_pred_model_lr_\" + str(i)]))))"
      ],
      "execution_count": 61,
      "outputs": []
    },
    {
      "cell_type": "code",
      "metadata": {
        "id": "m3gxUPpYjiVE",
        "outputId": "2bbf1453-82c8-49fd-cf4e-3b3177b25415",
        "colab": {
          "base_uri": "https://localhost:8080/"
        }
      },
      "source": [
        "print(roc_auc_model_svm)\n",
        "print(\"\\n\")\n",
        "print(roc_auc_model_knn)\n",
        "print(\"\\n\")\n",
        "print(roc_auc_model_lr)"
      ],
      "execution_count": 62,
      "outputs": [
        {
          "output_type": "stream",
          "text": [
            "[('model_svm_1', 0.9004830917874396), ('model_svm_2', 0.9483091787439614), ('model_svm_3', 0.9888888888888888), ('model_svm_4', 0.9227053140096618), ('model_svm_5', 0.9449275362318841), ('model_svm_6', 0.9705314009661835), ('model_svm_7', 0.9338164251207729), ('model_svm_8', 0.9410628019323671), ('model_svm_9', 0.9632850241545894)]\n",
            "\n",
            "\n",
            "[('model_knn_1', 0.929951690821256), ('model_knn_2', 0.9594202898550726), ('model_knn_3', 0.9777777777777779), ('model_knn_4', 0.9338164251207729), ('model_knn_5', 0.8932367149758453), ('model_knn_6', 0.9521739130434782), ('model_knn_7', 0.9855072463768115), ('model_knn_8', 0.8966183574879226), ('model_knn_9', 0.9483091787439614)]\n",
            "\n",
            "\n",
            "[('model_lr_1', 0.9004830917874396), ('model_lr_2', 0.9483091787439614), ('model_lr_3', 0.9816425120772946), ('model_lr_4', 0.9227053140096618), ('model_lr_5', 0.9338164251207729), ('model_lr_6', 0.9594202898550726), ('model_lr_7', 0.9227053140096618), ('model_lr_8', 0.9410628019323671), ('model_lr_9', 0.9521739130434782)]\n"
          ],
          "name": "stdout"
        }
      ]
    },
    {
      "cell_type": "code",
      "metadata": {
        "id": "LoywFSJ1eak8",
        "outputId": "dd02bbc9-4ee6-4f4e-f6a6-37ce5e2cc2ca",
        "colab": {
          "base_uri": "https://localhost:8080/",
          "height": 283
        }
      },
      "source": [
        "target_names = ['Bening', 'Cancer'] \n",
        "clf_report = classification_report(yte, y_pred_model_lr_3, target_names=target_names, output_dict=True)\n",
        "\n",
        "sns.heatmap(pd.DataFrame(clf_report).iloc[:-1, :].T, annot=True, cmap = 'Pastel1')"
      ],
      "execution_count": 63,
      "outputs": [
        {
          "output_type": "execute_result",
          "data": {
            "text/plain": [
              "<matplotlib.axes._subplots.AxesSubplot at 0x7f6a4d527da0>"
            ]
          },
          "metadata": {
            "tags": []
          },
          "execution_count": 63
        },
        {
          "output_type": "display_data",
          "data": {
            "image/png": "[encoded data removed]",
            "text/plain": [
              "<Figure size 432x288 with 2 Axes>"
            ]
          },
          "metadata": {
            "tags": [],
            "needs_background": "light"
          }
        }
      ]
    },
    {
      "cell_type": "code",
      "metadata": {
        "id": "gUt-FSZgr3n_",
        "outputId": "77435b96-e13d-4f20-f42b-d1821b89e106",
        "colab": {
          "base_uri": "https://localhost:8080/",
          "height": 287
        }
      },
      "source": [
        "clf_report = classification_report(yte, y_pred_model_svm_3, target_names=target_names, output_dict=True)\n",
        "\n",
        "sns.heatmap(pd.DataFrame(clf_report).iloc[:-1, :].T, annot=True, cmap = 'Pastel1')"
      ],
      "execution_count": 64,
      "outputs": [
        {
          "output_type": "execute_result",
          "data": {
            "text/plain": [
              "<matplotlib.axes._subplots.AxesSubplot at 0x7f6a4aa9bdd8>"
            ]
          },
          "metadata": {
            "tags": []
          },
          "execution_count": 64
        },
        {
          "output_type": "display_data",
          "data": {
            "image/png": "[encoded data removed]",
            "text/plain": [
              "<Figure size 432x288 with 2 Axes>"
            ]
          },
          "metadata": {
            "tags": [],
            "needs_background": "light"
          }
        }
      ]
    },
    {
      "cell_type": "code",
      "metadata": {
        "id": "nEc3ZleWsBuq"
      },
      "source": [
        ""
      ],
      "execution_count": 64,
      "outputs": []
    }
  ]
}